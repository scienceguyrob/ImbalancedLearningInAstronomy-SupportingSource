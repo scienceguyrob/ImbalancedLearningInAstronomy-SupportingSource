{
 "cells": [
  {
   "cell_type": "markdown",
   "metadata": {},
   "source": [
    "# Supporting Material: Imbalanced Learning in Astronomy\n",
    "\n",
    "**Author:** Dr. Robert Lyon\n",
    "\n",
    "**Contact:** robert.lyon@manchester.ac.uk\n",
    "\n",
    "**Institution:** University of Manchester\n",
    "\n",
    "**Affiliation:** SKA Group, Time Domain Team (TDT)\n",
    "\n",
    "**Version:** 1.0\n",
    "\n",
    "**Date: 04/04/2018**\n",
    "\n",
    "**Acknowledgements:** This notebook utilises data obtained by the High Time Resolution Universe Collaboration using the Parkes Observatory, funded by the Commonwealth of Australia and managed by the CSIRO. The data was originally processed by Dr. Daniel Thornton & Dr. Samuel Bates. I gratefully acknowledge their efforts. \n",
    "\n",
    "I make use of a Python library called $\\textrm{imblanced-learn}$ in this notebook. This was written by Guillaume Lemaître, Fernando Nogueira and Christos Aridas as part of their work,\n",
    "\n",
    "_\"Imbalanced-learn: A Python Toolbox to Tackle the Curse of Imbalanced Datasets in Machine Learning\", Journal of Machine Learning Research (JLMR), vol.18, number 17, 2017._\n",
    "\n",
    "Their work can be found [via the JLMR website](http://jmlr.org/papers/v18/16-365).\n",
    "\n",
    "I greatly appreciate their efforts.\n",
    "\n",
    "## Introduction\n",
    "This notebook explores the issues that reduce the accuracy of Machine Learning (ML) algorithms, used for candidate classification. It was written to support a talk I delivered at European Week of Astronomy and Space Science (EWASS) meeting in 2018. The talk is entitled: \n",
    "\n",
    "*Imbalanced Learning In Astronomy*\n",
    "\n",
    "The notebook dissects the class imbalance problem through interactive Python code (Python version 3.6). I explore the key concepts and issues via a tutorial style. To run the code you require the $\\textrm{numpy}$, $\\textrm{scipy}$, $\\textrm{scikit-learn}$, and $\\textrm{imbalanced-learn}$ libraries. The notebook assumes some basic background knowledge in statistics and machine learning, but is pitched at a general astronomy audience that may have limited ML experience.\n",
    "\n",
    "## Code & License\n",
    "The code and the contents of this notebook are released under the GNU GENERAL PUBLIC LICENSE, Version 3, 29 June 2007.\n",
    "\n",
    "## Citation Request\n",
    "\n",
    "I kindly request that if you make use of the notebook, please cite the work using the following $\\textrm{Bibtex}$ source and using the repository DOI.\n"
   ]
  },
  {
   "cell_type": "raw",
   "metadata": {},
   "source": [
    "@misc{Lyon:2018:ewassNotebook,\n",
    "    author  = {{Lyon}, R.~J.},\n",
    "    title   = {{Supporting Material: Imbalanced Learning in Astronomy}},\n",
    "    journal = {European Week of Astronomy and Space Science (EWASS)},\n",
    "    year    = {2018},\n",
    "    }"
   ]
  },
  {
   "cell_type": "markdown",
   "metadata": {},
   "source": [
    "I also humbly request that you cite the paper that this notebook supports to make the work more visible."
   ]
  },
  {
   "cell_type": "raw",
   "metadata": {},
   "source": [
    "@inproceedings{Lyon:2018:ewassProceeding,\n",
    "    author    = {{Lyon}, R.~J.},\n",
    "    title     = {{Imbalanced Learning in Astronomy}},\n",
    "    booktitle = {European Week of Astronomy and Space Science (EWASS)},\n",
    "    note      = {Session S6, Software in Astronomy},\n",
    "    month     = {April},\n",
    "    year      = {2018},\n",
    "    }"
   ]
  },
  {
   "cell_type": "markdown",
   "metadata": {},
   "source": [
    "## Background\n",
    "If comfortable with ML, statistics or decision theory, please feel free to skip the following sub-sections. They are meant primarily for those new to the field.\n",
    "### Observations and Data\n",
    "We use instruments to measure the world around us. For example we can use a thermostat to measure temperature, a questionnaire to measure opinions or record details, and ground-based telescopes to measure electromagnetic radiation arriving at the Earth's surface. In each case, measurements yield data. \n",
    "\n",
    "When we take a measurement, we're making an observation. Observational data can be numerical, textual, categorical, or a combination thereof. In the case of a thermostat, it takes temperature measurements at a specific point in time, producing a single numerical value. If the temperature within a room drops below a pre-determined level (i.e. becomes too cold), the measurements from the thermostat can be used to automatically turn a heating system on to compensate. The performance of the system depends on the thermostat providing accurate measurements. Otherwise a room or building could become too hot, or too cold.\n",
    "\n",
    "There are many factors that contribute to cooling or heating an arbitrary room. These include the current state of a potential heating system (on/off), the temperature outside, the time of day, the time of year, or even the body heat emitted by people within the room. There are many variables to consider, and these are but a few.\n",
    "\n",
    "Usually we don't care about all the details - the room is either too hot, or too cold. But what about in situations where heat management is critically important? Say, in the heart of a computer server room or nuclear reactor. Here temperature changes can cause problems. In these scenarios is it generally desirable to keep equipment cool for optimal performance. If the temperature increases too much, it may become necessary to cool things down. Perhaps by increasing the airflow, using air conditioning/cooling liquids, or even turning some machines/the reactor off. Such actions have safety implications and a financial cost. Ideally we'd like to take pre-emptive action to stop any adverse conditions arising. Perhaps by making predictions.\n",
    "\n",
    "Making such predictions is hard! There are many variables to consider. To proceed we usually make a set of assumptions regarding which variables matter most, and focus on those. So for example, let's not worry about the heat added to the server room by people. This is the best we can do with imperfect knowledge. Ideally we'd like to fully understand the processes at play in these scenarios. But what does \"understand the process\" actually mean?\n",
    "\n",
    "### Functions\n",
    "We can quantify this mathematically via functions. A function is just an input/output box. It accepts input in the form of data, and produces data as output via a mathematical formula. We can use functions to model very complicated scenarios more easily.\n",
    "\n",
    "**Example**\n",
    "\n",
    "Consider the server room example. There are a large number of factors determining the room's temperature at any given moment (outside temperature, airflow, number of computers, computational load, time of day etc.). We can't keep track of all these variables - that would be incredibly impractical. Yet we can think of the room as an input/output box that accepts all these variables as inputs, and yields the temperature as output. \n",
    "\n",
    "In nature there exists a mathematical formula for this function. Given *all* (potentially infinite) input variables, it would return the exact temperature that results, without error. This function can be represented via:\n"
   ]
  },
  {
   "cell_type": "markdown",
   "metadata": {},
   "source": [
    "<img src=\"images/png/F_x.png\" width=\"70\">"
   ]
  },
  {
   "cell_type": "markdown",
   "metadata": {},
   "source": [
    "Where $x$ represents the input. In many cases we'd like to obtain this function. For the server room it would allow us to predict the state of the room now, and anytime in the future with complete certainty - for any set of input variables. This predictive power could be used to great effect. The cost savings achievable in terms of power alone would be huge - decreased power consumption, increased equipment life-time, fewer hardware failures etc.\n",
    "\n",
    "However to find $f(x)$ we require a dataset accurately describing the infinite variety of input variables and output states. This is clearly infeasible! \n",
    "\n",
    "Instead we can observe a server room over a fixed period of time - perhaps we can use that information? Experts collect monitoring data over weeks, months and sometimes even years. The data provides a detailed picture of how input variables map to output states. As more data is collected, the picture becomes clearer. \n",
    "\n",
    "Suppose a server room is monitored from January to March. The data collected describes a subset of the inputs and outputs of $f(x)$. It doesn't cover the summer months, so we don't have data associated with higher summer temperatures. The data we have is therefore incomplete compared to what's needed to produce $f(x)$. \n",
    "\n",
    "Instead we have a data sample that describes a simplified version of the server room, who’s input and output states are produced by the closely related function:\n"
   ]
  },
  {
   "cell_type": "markdown",
   "metadata": {},
   "source": [
    "<img src=\"images/png/F_x_prime.png\" width=\"80\">"
   ]
  },
  {
   "cell_type": "markdown",
   "metadata": {},
   "source": [
    "This function represents an approximate view of $f(x)$, in this case from January to March. It is important to remember that it is obtained using technological observing instruments and tools. Such human made devices are imperfect and inadvertently introduce errors/noise (e.g. system noise, human-induced bias etc.). Thus the approximation is imperfect in many ways.\n",
    "\n",
    "**Why relevant to Machine Learning?**\n",
    "\n",
    "Suppose we want to make predictions using the monitoring data collected in the server room. The data consists of input variables from a set $X$, and a set of resulting output states from a set $Y$. For example, if $x=$CPU temperature greater than 90 degrees, then $y=$ overheating.\n",
    "\n",
    "The goal of machine learning **classification** (also known as pattern recognition) is to perform the mapping from $X$ to $Y$ on new, unseen data; i.e. data not described by $f(x)^{\\prime}$. This is depicted in a summary diagram below.\n"
   ]
  },
  {
   "cell_type": "markdown",
   "metadata": {},
   "source": [
    "<img src=\"images/png/Mapping_X_to_Y.png\" width=\"400\">"
   ]
  },
  {
   "cell_type": "markdown",
   "metadata": {},
   "source": [
    "In other words, can we use the data from January to March to predict for the rest of the year? Machine learning classifiers **can** achieve this. Principally, by computing a mathematical function that automatically performs the mapping from $X$ to $Y$, as accurately as possible. The computed generic classification function can be denoted as:"
   ]
  },
  {
   "cell_type": "markdown",
   "metadata": {},
   "source": [
    "<img src=\"images/png/F_x_prime_prime.png\" width=\"80\">"
   ]
  },
  {
   "cell_type": "markdown",
   "metadata": {},
   "source": [
    "Yet this function is imperfect too! In fact, it has more imperfections than $f(x)^{\\prime}$. This is because it's made additional assumptions inorder to perform the mapping from $X$ to $Y$. To illustrate this, suppose that when the server room was observed, the external temperature never rose above $11^{\\circ}c$. Therefore the room's air conditioning was never observed under the strain of warm summer months. Since $f(x)^{\\prime}$ doesn't currently capture this temporal pattern, neither can $f(x)^{\\prime\\prime}$. The classification function will thus likely produce unhelpful predictions during the summer months. \n",
    "\n",
    "What if our experts take some new observations during the summer months - but forget to account for the time of day as an input variable? Here $f(x)^{\\prime}$ is certainly more complete, yet it fails to capture the temperature fluctuations that occur during a normal day. But it's usually cooler in the morning and warmer in the afternoon when most people are working. This is important, since a server room will be under most load during the working day. As $f(x)^{\\prime}$ still doesn't capture this, neither will $f(x)^{\\prime\\prime}$. Once again, this leads to unreliable predictions.\n",
    "\n",
    "There are some important lessons here:\n",
    "\n",
    "* we must choose the correct input variables to observe.\n",
    "* we must observe them over a representative period of time.\n",
    "* ideally we must capture all representative states of the process being observed.\n",
    "* we must reduce bias and observing error where possible.\n",
    "\n",
    "### Bringing it together\n",
    "Taking all these functions together we can paint a simple picture. There is a function describing the perfect underlying data. Then a function describing the data we actually collect - this is what we begin to do science with. Then there's the function describing the interpretations we make via ML algorithms and other methods - this includes errors collected when observing, plus errors we may make during analysis.\n"
   ]
  },
  {
   "cell_type": "markdown",
   "metadata": {},
   "source": [
    "<img src=\"images/png/data_capture_overview.png\" width=\"500\">"
   ]
  },
  {
   "cell_type": "markdown",
   "metadata": {},
   "source": [
    "### Computing a function?\n",
    "So far \"computing a function\" is an abstract concept. It raises questions - how is this achieved? Is a heuristic used? How is it useful?\n",
    "\n",
    "It's perhaps best illustrated via a trivial example. Consider the mapping problem in the image below. Here $X$ contains a set of heating configurations that consume power levels defined in $Y$. On the left-hand side we can see that some examples in $X$ have been linked to levels in $Y$. For example an input level of 4 corresponds to an output level of 16 (units unimportant). These items in $X$ have been mapped to items in $Y$. In other words these have been **labelled** (the ground truth mapping is known). \n",
    "\n",
    "The function that does the mapping is missing on the left-hand side. How might one be found? Well, you search for one...\n",
    "\n",
    "Machine learning algorithms are fundamentally optimisation functions. These are functions that search for an optimal set of parameters that minimise or maximise some **objective** function. Where the objective is to make as many correct predictions as possible (or the inverse). This can be easily quantified via a count of the errors made (though more complex in practice!). Such an objective function is given below:\n",
    "\n",
    "\n",
    "\\begin{eqnarray}\n",
    "\\sum_{i=1}^{n} \\delta[f(x_{i})^{\\prime\\prime}\\neq y_{i}] \\textrm{,}\n",
    "\\end{eqnarray}\n",
    "\n",
    "where $\\delta[i]$ an indicator function that returns 1 if the condition within it evaluates to true, else 0. So here if the prediction of $f(x_{i})^{\\prime\\prime}$ doesn't match with the known label $y_{i}$, $\\delta$ returns 1.\n",
    "\n",
    "Lets use that function to optimise a contrived classifier,\n",
    "\n",
    "\\begin{eqnarray}\n",
    "f(x_{i})^{\\prime\\prime} = x^{a} \\textrm{,}\n",
    "\\end{eqnarray}\n",
    "\n",
    "where $a$ is the parameter to be optimised.\n",
    "\n",
    "\n",
    "On the right we see two attempts at finding a function mapping $X$ to $Y$. The first uses $a=1.5$, which produces 5 errors and 0 correct predictions. By setting $a=2$ we find an optimal solution, which achieves 0 errors and 5 correct predictions. Typically there would be steps in between during a parameter search e.g. $a=1.6$, $a=1.61$,..., $a=1.71$, $a=1.7$, ... found via e.g. gradient descent or some other method.\n",
    "\n",
    "Here the search is easy as the problem is so simple. Yet at a fundamental level this is how machine learning classifiers work. Except the functions have multiple terms to be optimised according to the type of classifier used. Different classifiers use different objective functions, and different methods for parameter search. There are thousands of potential classifiers.\n"
   ]
  },
  {
   "cell_type": "markdown",
   "metadata": {},
   "source": [
    "<img src=\"images/png/PracticalMLExampleFunctionsSimple.png\" width=\"600\">"
   ]
  },
  {
   "cell_type": "markdown",
   "metadata": {
    "collapsed": true
   },
   "source": [
    "Now we move onto a formal computer science description of machine learning.\n",
    "\n",
    "## Machine Learning\n",
    "\n",
    "ML is a branch of artificial intelligence (A.I.), concerned with replicating and improving upon the human ability to learn. ML is comprised of multiple sub-fields, each supported by extremely active research communities. Here we are concerned with applying the tools from a specific area of ML known as pattern recognition - also known as statistical classification. The goal of classification is to automatically categorise items, objects, and data points, as accurately as possible. Human beings are capable of undertaking sophisticated classification tasks with ease, given appropriate training. This is due to our innate ability to categorise via trial and error. ML algorithms learn in a similar way, however using statistical tools (see Bishop 2006, and Lyon 2016 for a review).\n",
    "\n",
    "The aim of classification is to build functions that accurately map a set of input data points, to a set of **class** labels. This means mapping each input example to it's correct **label**. If $X=\\lbrace x_{\\rm 1}, \\ldots , x_{\\rm n} \\rbrace $ represents an input dataset, then $x_{\\rm i}$ is an individual example represented by variables known as **features**. Features describe the characteristics of an example such that $x_{\\rm i} = \\lbrace x_{\\rm i}^{\\rm j},...,x_{\\rm i}^{\\rm m} \\rbrace$, where each feature $x_{\\rm i}^{\\rm j} \\in \\mathbb{R}$ for $j=1, \\ldots , m$. \n",
    "\n",
    "The **class label** $y$ is also associated with each example. This can take many possible values so long as $y \\in Y$. The class label can be numerical or textual. Though typically each $y$ is an integer value correpsonding to some class category where $y \\in Y=\\lbrace y_{\\rm 1}, \\ldots, y_{\\rm k} \\rbrace$. It is common for only binary labels to be considered such that $y\\in Y=\\lbrace -1,1 \\rbrace$. Where $y_{\\rm 1}=-1$ equates to the non-target class (synonymous with negative) and $y_{\\rm 2}=1$ to target class (synonymous with positive). In the pulsar domain, we consider the pulsar class to be the target (positive), and all others (noise, interference) to be non-target (negative)\n",
    "\n",
    "The features used to describe examples must be chosen after careful consideration. Features must be useful for separating the classes under consideration. For the **binary** two-class case, assuming only positive and negative classes, the feature distributions for examples with the label $y_{\\rm 1}=-1$ must differ from the distributions for examples with the label $y_{\\rm 1}=1$. These distributions must be separable, which can be quantified mathematically, i.e. via distance measures. Feature separability is depicted in the image below according to individual features. Here $\\phi$ depicts an optimal separation between the classes.\n"
   ]
  },
  {
   "cell_type": "markdown",
   "metadata": {},
   "source": [
    "<img src=\"images/png/Split_Point_1.png\" width=\"500\">"
   ]
  },
  {
   "cell_type": "markdown",
   "metadata": {},
   "source": [
    "An ML function 'learns' to separate examples from different classes, using the feature data from a labelled input vector known as the **training set** $T_{train}$. It contains pairs such that $T_{train}=\\lbrace (x_{\\rm 1},y_{\\rm 1}),\\ldots,(x_{\\rm n},y_{\\rm n})\\rbrace$. \n",
    "\n",
    "Think of the training set as the information available to a student prior to an examination. This information must be descriptive, (i.e. the features must contain useful information), and reflect what the topic of the exam. A classifier induces a mapping function between examples and labels based on the data in $T_{train}$. It does this by attempting to minimise the mapping errors it makes on the training examples. This process is known as **'training'**. \n",
    "\n",
    "The trained function is used to label new **unseen** candidates in the **'test set'** $T_{test}$. The test should be a sample of independent examples used to test the trained classifier, or the real world data the classifier is asked to classify. "
   ]
  },
  {
   "cell_type": "markdown",
   "metadata": {
    "collapsed": true
   },
   "source": [
    "### The i.i.d Assumption via an example\n",
    "Today students are subjected to many formal examinations throughout their time in education. To pass those exams, students must prepare, typically by studying the material to be covered in the exam. If the student works hard and learns the subject material, they'll likely do well. Machine learning algorithms are not much different. They're extremely 'studious' when it comes to learning from the material they are given.\n",
    "\n",
    "Occasionally an exam board and/or school make a mistake when preparing for an exam. Sometimes students are given the wrong exam paper, or taught the wrong subject material. The outcome is usually not good - especially for the students, as their results will suffer. This outcome doesn't make them bad students. Rather, the circumstances are less than favourable! \n",
    "\n",
    "What I've described here via a simple analogy is a violation of the i.i.d assumption. The i.i.d assumption implies the following. \n",
    "\n",
    "_So long as the data used to train a classifier, is distributionally similar to the information it will be tested on, it will do well. Otherwise, it will likely perform poorly._\n",
    "\n",
    "Much like for students, violations of the i.i.d assumption are not the fault of an individual classifier. Thus poor test results say little about i) the classifier used, ii) it's effectiveness on the problem at hand, ii) it's potential etc. Given the right information, the same algorithm could perform extremely well. It may even be the best algorithm for a particular problem. \n",
    "\n",
    "However, whereas it is easy to realise that students have been given the incorrect exam/subject material, it is much harder to know when we've poorly trained our algorithms. Differences between training data and real data can be so subtle, that they are impossible to spot via a cursory analysis. Can you spot subtle distributional differences in an n-dimensional dataset - because I usually can't! \n",
    "\n",
    "To mitigate these issues we have to be diligent teachers. We have to be sure we are giving our algorithms the best chance to learn the concepts we're trying to teach them. This means we must understand our data first, to guard against fundamental i.i.d violations. When the i.i.d assumption is violated, no machine learning classifier can be expected to perform well. This relates back to the discussion of functions in the background section.\n",
    "\n",
    "### When i.i.d is Violated\n",
    "\n",
    "The i.i.d assumption holds when the feature data supplied in the training set $T_{train}$, is independent from the feature data in $T_{test}$, yet identically distributed. The i.i.d assumption is violated when,\n",
    "\n",
    "* The data used to train a classifier comes from a different source/data distribution, to the data the classifier will be applied to. For example, suppose a classifier is trained to recognise RFI using data collected at the Parkes telescope, but is deployed upon data obtained at the Green Bank Telescope.\n",
    "* The data used to train and test a classifier, initially comes from the same source/data distribution. However over time, the distribution of the data being classified changes - either slowly, or abruptly. For example, the RFI environment surrounding most radio telescopes is subject to change over varying time-scales due to human activity. Any change causes a violation of the i.i.d. assumption. In the machine learning research literature, this problem is known more widely as distributional drift, or concept drift.\n",
    "* The data used to train and test a classifier, initially comes from the same source/data distribution. However the data is post-processed in a different way to the data collected post-training. This could happen during a survey. For example, if a problem is spotted in the pre-processing, and a correction made which alters the data distributions.\n",
    "\n",
    "These violations can easily occur, and perhaps unwittingly.\n"
   ]
  },
  {
   "cell_type": "markdown",
   "metadata": {},
   "source": [
    "### Learning Process\n",
    "The machine learning process is summarised in the diagram below. The process begins with the collection of data. The data sample is initially studied by human experts, and labelled as accurately as possible (human labelling error is possible). Once the labelled data is available, it is re-sampled into distinct subsets. These include,\n",
    "\n",
    "* a training set.\n",
    "* a test set.\n",
    "* an optional validation set.\n",
    "\n",
    "Next a classification model is chosen as a candidate solution, after studying available/relevant options. The classification model is initially 'taught' using the training data. This is known as the **'training'** phase. Once training is complete the **'testing'** phase begins. Here data from the test set are passed through the classification model, and the predictions collected. The predictions are evaluated against the ground truth labels we already have from the data collection phase. If the model performs well, then the system can be deployed. If not, we return to the training phase. Either with the same classifier, or a new one. The entire process is repeated until good performance is achieved. Whilst this is a simplified picture, it should suffice for this work."
   ]
  },
  {
   "cell_type": "markdown",
   "metadata": {},
   "source": [
    "<img src=\"images/png/LearningProcessSummary.png\" width=\"500\">"
   ]
  },
  {
   "cell_type": "markdown",
   "metadata": {},
   "source": [
    "### Evaluation\n",
    "ML classifiers are simply functions. The output of functions can be visualised, making them easier to understand. Earlier in the background section I introduced the contrived classifier,\n",
    "\n",
    "\\begin{eqnarray}\n",
    "f(x_{i})^{\\prime\\prime} = x^{a} \\textrm{.}\n",
    "\\end{eqnarray}\n",
    "\n",
    "We found that $a=2$ was the optimal parameter choice, and we now visualise the function output below."
   ]
  },
  {
   "cell_type": "markdown",
   "metadata": {},
   "source": [
    "<img src=\"images/png/FunctionVisualised.png\" width=\"550\">"
   ]
  },
  {
   "cell_type": "markdown",
   "metadata": {},
   "source": [
    "We can see that the function produces a simple parabola. This isn't very useful for classification! Yet visualising a classification function's output in the presence of data, allows us to evaluate how well it works. Suppose there's a classifier described via a simple linear function. It produces a single line through our data as shown in the image below."
   ]
  },
  {
   "cell_type": "markdown",
   "metadata": {},
   "source": [
    "<img src=\"images/png/DecisionBoundary.png\" width=\"350\">"
   ]
  },
  {
   "cell_type": "markdown",
   "metadata": {},
   "source": [
    "This dashed line is more commonly known as a **'decision boundary'**. Here the data are partitioned by the boundary. Data points falling on the left hand side are assigned the positive label, those on the right the negative label. Depending on the true class of each example and where they fall w.r.t the decision boundary, there are four possible outcomes in a binary classification problem. These are summarised in the Table below which is known as a **confusion matrix**."
   ]
  },
  {
   "cell_type": "markdown",
   "metadata": {},
   "source": [
    "|            |          |   **Predicted Label**   |   **Predicted Label**   |\n",
    "|:----------:|:--------:|:-------------------:|:-------------------:|\n",
    "|            |          |       Negative      |       Positive      |\n",
    "| **True Label** | Negative |  True Negative (TN) | False Positive (FP) |\n",
    "| **True Label** | Positive | False Negative (FN) |  True Positive (TP) |"
   ]
  },
  {
   "cell_type": "markdown",
   "metadata": {},
   "source": [
    "From these outcomes we can quantify how well a classifier performs. We do this using some common metrics such as accuracy, precision, and recall. These are described in the Table below."
   ]
  },
  {
   "cell_type": "markdown",
   "metadata": {},
   "source": [
    "|        **Metric**       | **Description**                                             |                         ** Definition**                         |\n",
    "|:-------------------------:|---------------------------------------------------------------|:----------------------------------------------------------------:|\n",
    "|          Accuracy         | Measure of overall classification accuracy.                   |                  $\\frac{(TP+TN)}{(TP+FP+FN+TN)}$                 |\n",
    "| False positive rate (FPR) | Fraction of negative instances incorrectly labelled positive. |                       $\\frac{FP}{(FP +TN)}$                      |\n",
    "|         Precision         | Fraction of retrieved instances that are positive.            |                       $\\frac{TP}{(TP+FP)}$                       |\n",
    "|           Recall          | Fraction of positive instances that are retrieved.            |                      $\\frac{TP}{(TP + FN)}$                      |\n",
    "|        Specificity        | Fraction of negatives correctly identified as such.           |                      $ \\frac{TN}{(FP + TN)}$                     |\n",
    "|          F-Score          | Measure of accuracy that considers both precision and recall. | $2\\times{ \\frac{precision\\times{recall}} {precision + recall}} $ |"
   ]
  },
  {
   "cell_type": "markdown",
   "metadata": {},
   "source": [
    "Ideally we'd like a classifier that produces high levels of recall and accuracy, whilst simultaneously minimising the false positive rate. This becomes especially important as our data becomes increasingly complex. Complex data usually require more sophisticated decision boundaries to attain a clear class separation. Even in the trivial example shown in the image below, we can see how a perfect boundary might look. This greatly improves on the simple linear separator, but is more difficult to compute."
   ]
  },
  {
   "cell_type": "markdown",
   "metadata": {},
   "source": [
    "<img src=\"images/png/Complex_boundary_1.png\" width=\"300\">"
   ]
  },
  {
   "cell_type": "markdown",
   "metadata": {},
   "source": [
    "## Imbalanced Learning Problem\n",
    "\n",
    "For binary classification problems, the class skew can be characterised by the imbalance ratio $IR$,"
   ]
  },
  {
   "cell_type": "markdown",
   "metadata": {},
   "source": [
    "\\begin{eqnarray}\n",
    "IR & = & \\frac{|\\lbrace (x_{i},y_{i}) | y_{i} \\in Y \\land y_{i}=y_{1} \\rbrace |}{|\\lbrace (x_{i},y_{i}) | y_{i} \\in Y \\land y_{i}=y_{2} \\rbrace |} \\textrm{.}\n",
    "\\end{eqnarray}"
   ]
  },
  {
   "cell_type": "markdown",
   "metadata": {},
   "source": [
    "Here $y_{1}$ is the minority class such that $0 < | y_{1} | < | y_{2}| $, and $y_{2}$ is therefore the majority class.\n",
    "\n",
    "Algorithms trained upon such data exhibit two general properties:\n",
    "* High training accuracy as the $IR$ approaches zero, where the cardinality of the majority class approaches infinity. This is achievable, since the majority class examples form an increasingly large proportion of the training set. Therefore the strategy that yields the greatest reduction in training set error, involves always predicting the majority class label. Thus classification models trained on such data, can become biased towards the majority class.\n",
    "* Poor minority class generalisation performance, particularly with respect to recall. Given that the training set is so imbalanced, $P(y_{1}|x_{i})$ (probability of $y_{1}$ for $x_{i}$) approaches zero as $\\lim_{IR} \\to 0$. In such cases $y_{1}$ is rarely if ever predicted.\n",
    "\n",
    "These are effects of what is known as the imbalanced learning problem. Imbalanced learning is concerned with overcoming these issues, in data sets that exhibit severe class imbalances where $IR < 0.1$ and worse. There are many discernible types of data imbalance that cause such problems (see He & Garcia, 2009). There are i) **intrinsic imbalances**, which are caused by the nature of the data space. There are ii) **extrinsic imbalances** caused by data collection techniques, and perhaps not attributable to a naturally imbalanced data distribution. Then there are iii) **relative imbalances**, occurring when a minority class is not rare, just small relative to the majority class. Whilst iv) **absolute rarity** pertains to situations where the minority class instances are genuinely rare, which naturally makes learning difficult. Finally there may be v) **sub-class imbalances**, whereby a single class is made up of numerous distinct subclasses, that are themselves imbalanced in one of the ways already described.\n",
    "\n",
    "Training a classifier on an imbalanced dataset does not necessarily mean poor generalisation performance. If the training data are discriminative enough to separate the different classes in data space, then the classifier will perform well regardless of the imbalance. A contrived example of this is shown in the image below.\n"
   ]
  },
  {
   "cell_type": "markdown",
   "metadata": {},
   "source": [
    "<img src=\"images/png/NoImbalanceProblem.png\" width=\"400\">"
   ]
  },
  {
   "cell_type": "markdown",
   "metadata": {},
   "source": [
    "It demonstrates that the underlying class distribution alone is not the root cause of poor performance on imbalanced data. Rather it is characteristics often possessed by imbalanced data sets, that make it difficult for a classifier to separate the minority and majority classes. These include,\n",
    "\n",
    "* **class inseparability**, which describes the overlapping nature of data from different classes. See a) in the image below.\n",
    "* **small disjuncts**, which occur when a concept is comprised of smaller disconnected sub-concepts. Small disjuncts are a problem as they cover only a few training cases. Many training examples are therefore usually required to characterise all the individual disjuncts. See b) in the image below.\n",
    "* the **small sample size** problem, which occurs when there are too few minority class examples available for learning. See c) in the image below.\n",
    "\n",
    "Ultimately these characteristics conspire to make it difficult for a classifier to construct an optimal decision boundary, leading to sub-optimal classifier performance.\n"
   ]
  },
  {
   "cell_type": "markdown",
   "metadata": {},
   "source": [
    "<img src=\"images/png/Imbalance_no_axis.png\" width=\"400\">"
   ]
  },
  {
   "cell_type": "markdown",
   "metadata": {},
   "source": [
    "## Solutions\n",
    "\n",
    "There are three generic approaches used to tackle a classification task. \n",
    "\n",
    "* Methods that assign labels to examples, according to their distance from some cluster centre. This is shown in a) below.\n",
    "* Methods that attempt to separate classes using decision boundaries. Class labels are assigned according to which side an example falls upon. Typically requires a region in data space that has a low density of examples, through which the boundary can be drawn. This is shown in b) below. \n",
    "* Instance-based methods,  that assign labels to new examples according to the majority label of their $n$ nearest neighbours. This is shown in c) below, via a typical nearest neighbour approach.\n",
    "\n",
    "There are other approaches, but these suffice for now."
   ]
  },
  {
   "cell_type": "markdown",
   "metadata": {},
   "source": [
    "<img src=\"images/png/LearningAssumptions.png\" width=\"300\">"
   ]
  },
  {
   "cell_type": "markdown",
   "metadata": {},
   "source": [
    "For each of these approaches, there are many ways to overcome the problems associated with class imbalance. Here we consider the most generic, often very succesfully applied.\n",
    "\n",
    "### Random Under-sampling\n",
    "\n",
    "In Random Under-sampling (RUS), majority class are instances are randomly omitted from the data set to balance the class distribution. Suppose we begin with data as shown in the image below."
   ]
  },
  {
   "cell_type": "markdown",
   "metadata": {},
   "source": [
    "<img src=\"images/png/UndersampleBefore.png\" width=\"200\">"
   ]
  },
  {
   "cell_type": "markdown",
   "metadata": {},
   "source": [
    "The goal is to randomly under-sample producing a more balanced data set:"
   ]
  },
  {
   "cell_type": "markdown",
   "metadata": {},
   "source": [
    "<img src=\"images/png/UndersampleAfter.png\" width=\"200\">"
   ]
  },
  {
   "cell_type": "markdown",
   "metadata": {},
   "source": [
    "Next let's create some imbalanced data to play with. We'll create a reasonable imbalance first. We'll use a 1:20 ratio, i.e. there are 20 majority class examples for each minority class example. In total 800 examples will be created."
   ]
  },
  {
   "cell_type": "code",
   "execution_count": 178,
   "metadata": {},
   "outputs": [
    {
     "name": "stderr",
     "output_type": "stream",
     "text": [
      "/Users/rob/anaconda/envs/py36/lib/python3.6/site-packages/sklearn/utils/deprecation.py:75: DeprecationWarning: Function _ratio_float is deprecated; Use a float for 'ratio' is deprecated from version 0.2. The support will be removed in 0.4. Use a dict, str, or a callable instead.\n",
      "  warnings.warn(msg, category=DeprecationWarning)\n"
     ]
    },
    {
     "data": {
      "image/png": "[encoded data removed]",
      "text/plain": [
       "<matplotlib.figure.Figure at 0x118a80e48>"
      ]
     },
     "metadata": {},
     "output_type": "display_data"
    },
    {
     "name": "stdout",
     "output_type": "stream",
     "text": [
      "Size of the variables involved\n",
      "y length:  800\n",
      "X length:  800\n",
      "y resampled length:  90\n",
      "x resampled length:  90\n"
     ]
    }
   ],
   "source": [
    "# This is a modified version of the code originally \n",
    "# written by Christos Aridas and Guillaume Lemaitre\n",
    "# <g.lemaitre58@gmail.com>, released under the MIT\n",
    "# License.\n",
    "\n",
    "# Plotting library.\n",
    "import matplotlib.pyplot as plt\n",
    "\n",
    "# For some math we need to do.\n",
    "import numpy as np\n",
    "\n",
    "# Use the Sklearn library to make datasets,\n",
    "# and perform an anlysis.\n",
    "from sklearn.datasets import make_classification\n",
    "from sklearn.decomposition import PCA\n",
    "\n",
    "# The code that actually does the random undersampling.\n",
    "from imblearn.under_sampling import RandomUnderSampler\n",
    "\n",
    "# Generate a dataset to experiment with. Here I explain what this\n",
    "# function does, and what the parameters mean on their first use. \n",
    "# Where I use them elsewhere, return to here for a recap.\n",
    "# \n",
    "# n_classes : int, optional (default=2)\n",
    "# The number of classes (or labels) of the classification problem.\n",
    "#\n",
    "# class_sep : float, optional (default=1.0)\n",
    "# The factor multiplying the hypercube size. Larger values spread\n",
    "# out the clusters/classes and make the classification task easier.\n",
    "#\n",
    "# weights : list of floats or None (default=None)\n",
    "# The proportions of samples assigned to each class. If None, then\n",
    "# classes are balanced. Note that if len(weights) == n_classes - 1, \n",
    "# then the last class weight is automatically inferred. More than\n",
    "# n_samples samples may be returned if the sum of weights exceeds 1.\n",
    "#\n",
    "# n_informative : int, optional (default=2)\n",
    "# The number of informative features. Each class is composed of a\n",
    "# number of gaussian clusters each located around the vertices of\n",
    "# a hypercube in a subspace of dimension n_informative. For each\n",
    "# cluster, informative features are drawn independently from \n",
    "# N(0, 1) and then randomly linearly combined within each cluster\n",
    "# in order to add covariance. The clusters are then placed on the \n",
    "# vertices of the hypercube.\n",
    "# \n",
    "# n_redundant : int, optional (default=2)\n",
    "# The number of redundant features. These features are generated\n",
    "# as random linear combinations of the informative features.\n",
    "#\n",
    "# flip_y : float, optional (default=0.01)\n",
    "# The fraction of samples whose class are randomly exchanged.\n",
    "# Larger values introduce noise in the labels and make the \n",
    "# classification task harder.\n",
    "#\n",
    "# n_samples : int, optional (default=100)\n",
    "# The number of samples.\n",
    "# \n",
    "# random_state : int, RandomState instance or None, optional (default=None)\n",
    "# If int, random_state is the seed used by the random number \n",
    "# generator; If RandomState instance, random_state is the \n",
    "# random number generator; If None, the random number generator \n",
    "# is the RandomState instance used by np.random.\n",
    "#\n",
    "# For more details of this sklearn function, visit:\n",
    "# \n",
    "# http://scikit-learn.org/stable/modules/generated/sklearn.datasets.make_classification.html\n",
    "\n",
    "X, y = make_classification(n_classes=2, class_sep=1, weights=[0.05, 0.95],\n",
    "                           n_informative=3, n_redundant=1, flip_y=0,\n",
    "                           n_features=20  , n_clusters_per_class=1,\n",
    "                           n_samples=800  , random_state=10)\n",
    "\n",
    "# So now have a dataset to play with...\n",
    "\n",
    "# Build a PCA object for visualisation. PCA decomposes a dataset\n",
    "# of high dimensionality, into one of low dimensionality. It converts\n",
    "# a set of observations of possibly correlated variables into a set\n",
    "# of values of linearly uncorrelated variables called principal components.\n",
    "#\n",
    "# See https://en.wikipedia.org/wiki/Principal_component_analysis\n",
    "# for more details.\n",
    "pca = PCA(n_components=2)\n",
    "\n",
    "# Now we have data reduced to just 2 principal components - this makes\n",
    "# it much easier to plot (can't plot high dimensionality data!).\n",
    "\n",
    "# Fit and transform x to visualise inside a 2D feature space. What does this \n",
    "# mean? It means we take the original data from the higher dimensional space,\n",
    "# and apply the principal component analysis output, to reduce it to just 2\n",
    "# dimensions.\n",
    "#\n",
    "# For more details of this function checkout,\n",
    "# http://scikit-learn.org/stable/modules/generated/sklearn.decomposition.PCA.html\n",
    "X_vis = pca.fit_transform(X)\n",
    "\n",
    "# Now apply the random under-sampling method.\n",
    "#\n",
    "# return_indices : bool, optional (default=False)\n",
    "# Whether or not to return the indices of the samples randomly selected\n",
    "# from the majority class.\n",
    "#\n",
    "# We need the indices of the selected majority class exmaples for plotting.\n",
    "rus = RandomUnderSampler(ratio=0.8,return_indices=True)\n",
    "\n",
    "# Produce the resampled data sets for X and Y\n",
    "X_resampled, y_resampled, idx_resampled = rus.fit_sample(X, y)\n",
    "\n",
    "# Now apply the same PCA as earlier, to get the reseampled X data,\n",
    "# in to the 2D space.\n",
    "X_res_vis = pca.transform(X_resampled)\n",
    "\n",
    "fig = plt.figure()\n",
    "ax = fig.add_subplot(1, 1, 1)\n",
    "\n",
    "idx_samples_removed = np.setdiff1d(np.arange(X_vis.shape[0]),\n",
    "                                   idx_resampled)\n",
    "\n",
    "idx_class_0 = y_resampled == 0\n",
    "\n",
    "# Here we add the scatter points for each class, using an alpha\n",
    "# of 0.8. so they have some transparency.\n",
    "plt.scatter(X_res_vis[idx_class_0, 0], X_res_vis[idx_class_0, 1],\n",
    "            alpha=.8, label='Class #0')\n",
    "plt.scatter(X_res_vis[~idx_class_0, 0], X_res_vis[~idx_class_0, 1],\n",
    "            alpha=.8, label='Class #1')\n",
    "plt.scatter(X_vis[idx_samples_removed, 0], X_vis[idx_samples_removed, 1],\n",
    "            alpha=.8, label='Removed samples')\n",
    "\n",
    "# Build the plot\n",
    "ax.spines['top'].set_visible(False)\n",
    "ax.spines['right'].set_visible(False)\n",
    "ax.get_xaxis().tick_bottom()\n",
    "ax.get_yaxis().tick_left()\n",
    "ax.spines['left'].set_position(('outward', 10))\n",
    "ax.spines['bottom'].set_position(('outward', 10))\n",
    "ax.set_xlim([-6, 6])\n",
    "ax.set_ylim([-6, 6])\n",
    "\n",
    "# Make it visible...\n",
    "plt.title('Under-sampling using random under-sampling')\n",
    "plt.legend()\n",
    "plt.tight_layout()\n",
    "plt.show()\n",
    "\n",
    "# To help understand whats happened, lets double check the\n",
    "# sizes of the variables involved.\n",
    "\n",
    "print (\"Size of the variables involved\")\n",
    "print (\"y length: \",len(y))\n",
    "print (\"X length: \",len(X))\n",
    "\n",
    "print (\"y resampled length: \",len(y_resampled))\n",
    "print (\"x resampled length: \",len(X_resampled))\n"
   ]
  },
  {
   "cell_type": "markdown",
   "metadata": {},
   "source": [
    "But how does under-sampling affect classification performance on this data? There are some experiments we can do. But we also need an evaluation metric insensitive to class skew. \n",
    "\n",
    "The G-Mean is not sensitive to class distributions. It describes the ratio of positive to negative accuracy irrespective of class size. We'll use it here along with some other standard metrics.\n"
   ]
  },
  {
   "cell_type": "markdown",
   "metadata": {},
   "source": [
    "\\begin{equation}\n",
    "\\textrm{G-Mean} = \\sqrt{\\frac{TP}{TP+FN}\\times \\frac{TN}{TN+FP}}\n",
    "\\end{equation}"
   ]
  },
  {
   "cell_type": "markdown",
   "metadata": {},
   "source": [
    "There are two simple experiments to try now.\n",
    "\n",
    "1. Test how well a simple classifier performs on the original data.\n",
    "2. Compare that to how well the same classifier performs on the randomly undersampled data."
   ]
  },
  {
   "cell_type": "code",
   "execution_count": 179,
   "metadata": {},
   "outputs": [
    {
     "name": "stdout",
     "output_type": "stream",
     "text": [
      "\n",
      "Examples in training set:  400\n",
      "Examples in testing set:  400\n",
      "Dimensions of training set:  (400, 20)\n",
      "Dimensions of testing set:  (400, 20)\n",
      "\n",
      "Accuracy : 0.9325\n",
      "Recall   : 0.958115183246\n",
      "Precision: 0.970822281167\n",
      "F1 Score : 0.96442687747\n",
      "\n",
      "Custom accuracy:  0.9325\n",
      "Recall   : 0.9708222811671088\n",
      "Precision: 0.9581151832460733\n",
      "F1 Score : 0.9644268774703557\n",
      "G-mean   : 0.5435693615261898\n",
      "\n",
      " The outputs should match - but look a the G-mean... that's very low.\n"
     ]
    }
   ],
   "source": [
    "# We have a couple of relevant data sources. There is,\n",
    "#\n",
    "# X - the input data.\n",
    "# y - the labels corresponding to the examples in X\n",
    "# X_resampled - the randomly undersampled version of X.\n",
    "# y_resampled - the labels corresponding to the examples in X_resampled\n",
    "#\n",
    "#\n",
    "# There is then a simple experiment we can do:\n",
    "#\n",
    "# 1. Test how well a simple classifier performs on the original data.\n",
    "# 2. Compare that to how well the same classifier performs on the \n",
    "#    randomly undersampled data.\n",
    "#\n",
    "# For each test we have to build and evaluate a seaprate classifier.\n",
    "# For simplicity we use the Naive Bayes classifier, for details see:\n",
    "# https://en.wikipedia.org/wiki/Naive_Bayes_classifier\n",
    "\n",
    "# Experiment 1a.\n",
    "\n",
    "# First lets get our inputs together.\n",
    "X_before = X\n",
    "Y_before = y\n",
    "\n",
    "# Now lets generate test and training sets from the data before\n",
    "# random undersampling was applied. We use the function,\n",
    "# train_test_split() to do this. The parameter test_size simply\n",
    "# insicates what proportion of the data should be used for the\n",
    "# training set. Here we simply say half in the training set, \n",
    "# half in the test set.\n",
    "\n",
    "from sklearn.model_selection import train_test_split\n",
    "\n",
    "x_train, x_test, y_train, y_test = train_test_split(X_before, Y_before, test_size=0.5)\n",
    "\n",
    "print ('\\nExamples in training set: ' , str(len(x_train)))\n",
    "print ('Examples in testing set: ' , str(len(x_test)))\n",
    "print ('Dimensions of training set: ' , str(np.asarray(x_train).shape))\n",
    "print ('Dimensions of testing set: ' , str(np.asarray(x_test).shape)) \n",
    "\n",
    "from sklearn.naive_bayes import GaussianNB\n",
    "\n",
    "classifier = GaussianNB()\n",
    "\n",
    "# First train the classifier with call to fit.\n",
    "classifier.fit(x_train, y_train)\n",
    "\n",
    "# Now make some predcitions for the likely labels\n",
    "# using the trained classifier.\n",
    "y_predicted = classifier.predict(x_test)\n",
    "\n",
    "# If we import some metrics we can evaluate the results.\n",
    "from sklearn.metrics import accuracy_score\n",
    "from sklearn.metrics import f1_score\n",
    "from sklearn.metrics import precision_score\n",
    "from sklearn.metrics import recall_score\n",
    "from sklearn.metrics import confusion_matrix\n",
    "\n",
    "print (\"\\nAccuracy :\", accuracy_score(y_test,y_predicted))\n",
    "print (\"Recall   :\", recall_score(y_test,y_predicted))\n",
    "print (\"Precision:\", precision_score(y_test,y_predicted))\n",
    "print (\"F1 Score :\", f1_score(y_test,y_predicted))\n",
    "\n",
    "# Next we can get the confusion matrix:\n",
    "cm = confusion_matrix(y_test,y_predicted)\n",
    "\n",
    "# I have provided my own custom class that can be used to\n",
    "# evaluate classifier performance. I use this now to verify the\n",
    "# values obtained above, and to obtain the G-mean. This is a\n",
    "# metric insensitive to the imbalance. This custom class expects a\n",
    "# confusion matrix as an input, with the following formatting:\n",
    "#                               \n",
    "# [[TN   FN]\n",
    "# [ FP  TP]]\n",
    "\n",
    "# Import custom code\n",
    "from EvaluationStats import ClassifierStats\n",
    "\n",
    "# Create object\n",
    "stats = ClassifierStats(cm)\n",
    "\n",
    "# Print the results\n",
    "print (\"\\nCustom accuracy: \", stats.getAccuracy())\n",
    "print (\"Recall   :\", stats.getRecall())\n",
    "print (\"Precision:\", stats.getPrecision())\n",
    "print (\"F1 Score :\", stats.getfScore())\n",
    "print (\"G-mean   :\", stats.getGMean())\n",
    "\n",
    "print(\"\\n The outputs should match - but look a the G-mean... that's very low.\")\n",
    "# You'll notice the custom results are more precise.   "
   ]
  },
  {
   "cell_type": "markdown",
   "metadata": {},
   "source": [
    "Now we determine how under-sampling impacts performance."
   ]
  },
  {
   "cell_type": "code",
   "execution_count": 180,
   "metadata": {},
   "outputs": [
    {
     "name": "stdout",
     "output_type": "stream",
     "text": [
      "\n",
      "Examples in training set:  45\n",
      "Examples in testing set:  45\n",
      "Dimensions of training set:  (45, 20)\n",
      "Dimensions of testing set:  (45, 20)\n",
      "\n",
      "Accuracy : 0.822222222222\n",
      "Recall   : 0.884615384615\n",
      "Precision: 0.821428571429\n",
      "F1 Score : 0.851851851852\n",
      "\n",
      "Custom accuracy:  0.8222222222222222\n",
      "Recall   : 0.8214285714285714\n",
      "Precision: 0.8846153846153846\n",
      "F1 Score : 0.8518518518518519\n",
      "G-mean   : 0.8224783208299743\n",
      "\n",
      " The outputs should match - and the G-mean has increased - sampling has made it easier to find the minority class.\n"
     ]
    }
   ],
   "source": [
    "# Experiment 2a.\n",
    "# We do the same as before, except with the undersampled data.\n",
    "\n",
    "# Let's get our inputs together.\n",
    "X_after  = X_resampled\n",
    "Y_after  = y_resampled\n",
    "\n",
    "# Now lets generate test and training sets from the data before\n",
    "# random undersampling was applied. We use the function,\n",
    "# train_test_split() to do this. The parameter test_size simply\n",
    "# insicates what proportion of the data should be used for the\n",
    "# training set. Here we simply say half in the training set, \n",
    "# half in the test set.\n",
    "\n",
    "from sklearn.model_selection import train_test_split\n",
    "\n",
    "x_train, x_test, y_train, y_test = train_test_split(X_after, Y_after, test_size=0.5)\n",
    "\n",
    "print ('\\nExamples in training set: ' , str(len(x_train)))\n",
    "print ('Examples in testing set: ' , str(len(x_test)))\n",
    "print ('Dimensions of training set: ' , str(np.asarray(x_train).shape))\n",
    "print ('Dimensions of testing set: ' , str(np.asarray(x_test).shape)) \n",
    "\n",
    "from sklearn.naive_bayes import GaussianNB\n",
    "\n",
    "classifier = GaussianNB()\n",
    "\n",
    "# First train the classifier with call to fit.\n",
    "classifier.fit(x_train, y_train)\n",
    "\n",
    "# Now make some predcitions for the likely labels\n",
    "# using the trained classifier.\n",
    "y_predicted = classifier.predict(x_test)\n",
    "\n",
    "# If we import some metrics we can evaluate the results.\n",
    "from sklearn.metrics import accuracy_score\n",
    "from sklearn.metrics import f1_score\n",
    "from sklearn.metrics import precision_score\n",
    "from sklearn.metrics import recall_score\n",
    "from sklearn.metrics import confusion_matrix\n",
    "\n",
    "print (\"\\nAccuracy :\", accuracy_score(y_test,y_predicted))\n",
    "print (\"Recall   :\", recall_score(y_test,y_predicted))\n",
    "print (\"Precision:\", precision_score(y_test,y_predicted))\n",
    "print (\"F1 Score :\", f1_score(y_test,y_predicted))\n",
    "\n",
    "# Next we can get the confusion matrix:\n",
    "cm = confusion_matrix(y_test,y_predicted)\n",
    "\n",
    "# I have provided my own custom class that can be used to\n",
    "# evaluate classifier performance. I use this now to verify the\n",
    "# values obtained above, and to obtain the G-mean. This is a\n",
    "# metric insensitive to the imbalance. This custom class expects a\n",
    "# confusion matrix as an input, with the following formatting:\n",
    "#                               \n",
    "# [[TN   FN]\n",
    "# [ FP  TP]]\n",
    "\n",
    "# Import custom code\n",
    "from EvaluationStats import ClassifierStats\n",
    "\n",
    "# Create object\n",
    "stats = ClassifierStats(cm)\n",
    "\n",
    "# Print the results\n",
    "print (\"\\nCustom accuracy: \", stats.getAccuracy())\n",
    "print (\"Recall   :\", stats.getRecall())\n",
    "print (\"Precision:\", stats.getPrecision())\n",
    "print (\"F1 Score :\", stats.getfScore())\n",
    "print (\"G-mean   :\", stats.getGMean())\n",
    "\n",
    "print(\"\\n The outputs should match - and the G-mean has increased - sampling has made it easier to find the minority class.\")\n",
    "# You'll notice the custom results are more precise. "
   ]
  },
  {
   "cell_type": "markdown",
   "metadata": {},
   "source": [
    "We see the G-mean improve between experiment 1 and experiment 2. Thus under-sampling has made it easier to identify the minority class. However the results are not great. Accuracy has dropped - but that's ok. You now have to take into consideration that in experiment 1, there were 400 examples in the training set. Whilst in experiment 2, there were only 90 examples. Thus in experiment 2 there was much less information to learn from. The key then is to carefully under-sample, without removing examples that contain a lot of information."
   ]
  },
  {
   "cell_type": "markdown",
   "metadata": {},
   "source": [
    "### Random Over-sampling\n",
    "\n",
    "In Random Over-sampling (RUS), minority class are instances are randomly dupliacted to balance the class distribution. Suppose we begin with data as shown in the image below."
   ]
  },
  {
   "cell_type": "markdown",
   "metadata": {},
   "source": [
    "<img src=\"images/png/Oversample_before.png\" width=\"200\">"
   ]
  },
  {
   "cell_type": "markdown",
   "metadata": {},
   "source": [
    "The goal is to randomly over-sample producing a more balanced data set:"
   ]
  },
  {
   "cell_type": "markdown",
   "metadata": {},
   "source": [
    "<img src=\"images/png/OversampleAfter.png\" width=\"200\">"
   ]
  },
  {
   "cell_type": "markdown",
   "metadata": {},
   "source": [
    "So how does this over-sampling affect classification performance? We'll use the G-mean again, and mostly the same code to keep things simple. First we'll create some new data. This time we'll make the imbalanced worse. We'll use a 1:20 ratio, i.e. there are 20 majority class examples for each minority class example. In total 800 examples will be created."
   ]
  },
  {
   "cell_type": "code",
   "execution_count": 185,
   "metadata": {},
   "outputs": [
    {
     "data": {
      "image/png": "[encoded data removed]",
      "text/plain": [
       "<matplotlib.figure.Figure at 0x115dfc2b0>"
      ]
     },
     "metadata": {},
     "output_type": "display_data"
    },
    {
     "name": "stdout",
     "output_type": "stream",
     "text": [
      "Size of the variables involved\n",
      "y length:  800\n",
      "X length:  800\n",
      "y resampled length:  1520\n",
      "x resampled length:  1520\n"
     ]
    }
   ],
   "source": [
    "# This is a modified version of the code originally \n",
    "# written by Christos Aridas and Guillaume Lemaitre\n",
    "# <g.lemaitre58@gmail.com>, released under the MIT\n",
    "# License.\n",
    "\n",
    "# The code that actually does the random oversampling.\n",
    "from imblearn.over_sampling import RandomOverSampler\n",
    "\n",
    "# Make a dataset, same as before.\n",
    "X, y = make_classification(n_classes=2, class_sep=1, weights=[0.05, 0.95],\n",
    "                           n_informative=3, n_redundant=1, flip_y=0,\n",
    "                           n_features=20  , n_clusters_per_class=1,\n",
    "                           n_samples=800  , random_state=10)\n",
    "\n",
    "# Used to more easily visualise the data, as before.\n",
    "pca = PCA(n_components=2)\n",
    "X_vis = pca.fit_transform(X)\n",
    "\n",
    "# Now apply the random over-sampling method...\n",
    "ros = RandomOverSampler(ratio='minority')\n",
    "\n",
    "# Produce the resampled data sets for X and Y\n",
    "X_resampled, y_resampled = ros.fit_sample(X, y)\n",
    "\n",
    "# Now apply the same PCA as earlier, to get the reseampled X data,\n",
    "# in to the 2D space.\n",
    "X_res_vis = pca.transform(X_resampled)\n",
    "\n",
    "X_resampled, y_resampled = ros.fit_sample(X, y)\n",
    "X_res_vis = pca.transform(X_resampled)\n",
    "\n",
    "# Two subplots, unpack the axes array immediately\n",
    "f, (ax1, ax2) = plt.subplots(1, 2)\n",
    "\n",
    "c0 = ax1.scatter(X_vis[y == 0, 0], X_vis[y == 0, 1], label=\"Class #0\",\n",
    "                 alpha=0.5)\n",
    "c1 = ax1.scatter(X_vis[y == 1, 0], X_vis[y == 1, 1], label=\"Class #1\",\n",
    "                 alpha=0.5)\n",
    "ax1.set_title('Original set')\n",
    "\n",
    "ax2.scatter(X_res_vis[y_resampled == 0, 0], X_res_vis[y_resampled == 0, 1],\n",
    "            label=\"Class #0\", alpha=.5)\n",
    "ax2.scatter(X_res_vis[y_resampled == 1, 0], X_res_vis[y_resampled == 1, 1],\n",
    "            label=\"Class #1\", alpha=.5)\n",
    "ax2.set_title('Random over-sampling')\n",
    "\n",
    "# Make a nice plot.\n",
    "for ax in (ax1, ax2):\n",
    "    ax.spines['top'].set_visible(False)\n",
    "    ax.spines['right'].set_visible(False)\n",
    "    ax.get_xaxis().tick_bottom()\n",
    "    ax.get_yaxis().tick_left()\n",
    "    ax.spines['left'].set_position(('outward', 10))\n",
    "    ax.spines['bottom'].set_position(('outward', 10))\n",
    "    ax.set_xlim([-6, 8])\n",
    "    ax.set_ylim([-6, 6])\n",
    "\n",
    "# Show the plot.\n",
    "plt.figlegend((c0, c1), ('Class #0', 'Class #1'), loc='lower center',\n",
    "              ncol=2, labelspacing=0.)\n",
    "plt.tight_layout(pad=3)\n",
    "plt.show()\n",
    "\n",
    "# To help understand whats happened, lets double check the\n",
    "# sizes of the variables involved.\n",
    "\n",
    "print (\"Size of the variables involved\")\n",
    "print (\"y length: \",len(y))\n",
    "print (\"X length: \",len(X))\n",
    "\n",
    "print (\"y resampled length: \",len(y_resampled))\n",
    "print (\"x resampled length: \",len(X_resampled))\n",
    "\n"
   ]
  },
  {
   "cell_type": "markdown",
   "metadata": {},
   "source": [
    "As before, lets do two experiments to better understand how classifier accuracy is impacted by over-sampling."
   ]
  },
  {
   "cell_type": "code",
   "execution_count": 186,
   "metadata": {},
   "outputs": [
    {
     "name": "stdout",
     "output_type": "stream",
     "text": [
      "\n",
      "Examples in training set:  400\n",
      "Examples in testing set:  400\n",
      "Dimensions of training set:  (400, 20)\n",
      "Dimensions of testing set:  (400, 20)\n",
      "\n",
      "Accuracy : 0.9175\n",
      "Recall   : 0.94502617801\n",
      "Precision: 0.967828418231\n",
      "F1 Score : 0.956291390728\n",
      "\n",
      "Custom accuracy:  0.9175\n",
      "Recall   : 0.967828418230563\n",
      "Precision: 0.9450261780104712\n",
      "F1 Score : 0.9562913907284768\n",
      "G-mean   : 0.46375961642753455\n",
      "\n",
      " The outputs should match - but look a the G-mean... thats pretty much Zero!\n"
     ]
    }
   ],
   "source": [
    "# Experiment 1b.\n",
    "\n",
    "# First lets get our inputs together.\n",
    "X_before = X\n",
    "Y_before = y\n",
    "\n",
    "from sklearn.model_selection import train_test_split\n",
    "\n",
    "x_train, x_test, y_train, y_test = train_test_split(X_before, Y_before, test_size=0.5)\n",
    "\n",
    "print ('\\nExamples in training set: ' , str(len(x_train)))\n",
    "print ('Examples in testing set: ' , str(len(x_test)))\n",
    "print ('Dimensions of training set: ' , str(np.asarray(x_train).shape))\n",
    "print ('Dimensions of testing set: ' , str(np.asarray(x_test).shape)) \n",
    "\n",
    "from sklearn.naive_bayes import GaussianNB\n",
    "\n",
    "classifier = GaussianNB()\n",
    "\n",
    "# First train the classifier with call to fit.\n",
    "classifier.fit(x_train, y_train)\n",
    "\n",
    "# Now make some predcitions for the likely labels\n",
    "# using the trained classifier.\n",
    "y_predicted = classifier.predict(x_test)\n",
    "\n",
    "# If we import some metrics we can evaluate the results.\n",
    "from sklearn.metrics import accuracy_score\n",
    "from sklearn.metrics import f1_score\n",
    "from sklearn.metrics import precision_score\n",
    "from sklearn.metrics import recall_score\n",
    "from sklearn.metrics import confusion_matrix\n",
    "\n",
    "print (\"\\nAccuracy :\", accuracy_score(y_test,y_predicted))\n",
    "print (\"Recall   :\", recall_score(y_test,y_predicted))\n",
    "print (\"Precision:\", precision_score(y_test,y_predicted))\n",
    "print (\"F1 Score :\", f1_score(y_test,y_predicted))\n",
    "\n",
    "# Next we can get the confusion matrix:\n",
    "cm = confusion_matrix(y_test,y_predicted)\n",
    "\n",
    "# I have provided my own custom class that can be used to\n",
    "# evaluate classifier performance. I use this now to verify the\n",
    "# values obtained above, and to obtain the G-mean. This is a\n",
    "# metric insensitive to the imbalance. This custom class expects a\n",
    "# confusion matrix as an input, with the following formatting:\n",
    "#                               \n",
    "# [[TN   FN]\n",
    "# [ FP  TP]]\n",
    "\n",
    "# Import custom code\n",
    "from EvaluationStats import ClassifierStats\n",
    "\n",
    "# Create object\n",
    "stats = ClassifierStats(cm)\n",
    "\n",
    "# Print the results\n",
    "print (\"\\nCustom accuracy: \", stats.getAccuracy())\n",
    "print (\"Recall   :\", stats.getRecall())\n",
    "print (\"Precision:\", stats.getPrecision())\n",
    "print (\"F1 Score :\", stats.getfScore())\n",
    "print (\"G-mean   :\", stats.getGMean())\n",
    "\n",
    "print(\"\\n The outputs should match - but look a the G-mean... thats pretty much Zero!\")\n",
    "# You'll notice the custom results are more precise.   "
   ]
  },
  {
   "cell_type": "markdown",
   "metadata": {},
   "source": [
    "Now lets see what over-sampling the minority class did."
   ]
  },
  {
   "cell_type": "code",
   "execution_count": 187,
   "metadata": {},
   "outputs": [
    {
     "name": "stdout",
     "output_type": "stream",
     "text": [
      "\n",
      "Examples in training set:  760\n",
      "Examples in testing set:  760\n",
      "Dimensions of training set:  (760, 20)\n",
      "Dimensions of testing set:  (760, 20)\n",
      "\n",
      "Accuracy : 0.882894736842\n",
      "Recall   : 0.856777493606\n",
      "Precision: 0.910326086957\n",
      "F1 Score : 0.882740447958\n",
      "\n",
      "Custom accuracy:  0.8828947368421053\n",
      "Recall   : 0.9103260869565217\n",
      "Precision: 0.8567774936061381\n",
      "F1 Score : 0.8827404479578392\n",
      "G-mean   : 0.8833343099334419\n",
      "\n",
      " The outputs should match - and the G-mean has improved.\n"
     ]
    }
   ],
   "source": [
    "# Experiment 2b.\n",
    "\n",
    "# Let's get our inputs together.\n",
    "X_after  = X_resampled\n",
    "Y_after  = y_resampled\n",
    "\n",
    "# Now lets generate test and training sets from the data before\n",
    "# random undersampling was applied. We use the function,\n",
    "# train_test_split() to do this. The parameter test_size simply\n",
    "# insicates what proportion of the data should be used for the\n",
    "# training set. Here we simply say half in the training set, \n",
    "# half in the test set.\n",
    "\n",
    "from sklearn.model_selection import train_test_split\n",
    "\n",
    "x_train, x_test, y_train, y_test = train_test_split(X_after, Y_after, test_size=0.5)\n",
    "\n",
    "print ('\\nExamples in training set: ' , str(len(x_train)))\n",
    "print ('Examples in testing set: ' , str(len(x_test)))\n",
    "print ('Dimensions of training set: ' , str(np.asarray(x_train).shape))\n",
    "print ('Dimensions of testing set: ' , str(np.asarray(x_test).shape)) \n",
    "\n",
    "from sklearn.naive_bayes import GaussianNB\n",
    "\n",
    "classifier = GaussianNB()\n",
    "\n",
    "# First train the classifier with call to fit.\n",
    "classifier.fit(x_train, y_train)\n",
    "\n",
    "# Now make some predcitions for the likely labels\n",
    "# using the trained classifier.\n",
    "y_predicted = classifier.predict(x_test)\n",
    "\n",
    "# If we import some metrics we can evaluate the results.\n",
    "from sklearn.metrics import accuracy_score\n",
    "from sklearn.metrics import f1_score\n",
    "from sklearn.metrics import precision_score\n",
    "from sklearn.metrics import recall_score\n",
    "from sklearn.metrics import confusion_matrix\n",
    "\n",
    "print (\"\\nAccuracy :\", accuracy_score(y_test,y_predicted))\n",
    "print (\"Recall   :\", recall_score(y_test,y_predicted))\n",
    "print (\"Precision:\", precision_score(y_test,y_predicted))\n",
    "print (\"F1 Score :\", f1_score(y_test,y_predicted))\n",
    "\n",
    "# Next we can get the confusion matrix:\n",
    "cm = confusion_matrix(y_test,y_predicted)\n",
    "\n",
    "# I have provided my own custom class that can be used to\n",
    "# evaluate classifier performance. I use this now to verify the\n",
    "# values obtained above, and to obtain the G-mean. This is a\n",
    "# metric insensitive to the imbalance. This custom class expects a\n",
    "# confusion matrix as an input, with the following formatting:\n",
    "#                               \n",
    "# [[TN   FN]\n",
    "# [ FP  TP]]\n",
    "\n",
    "# Import custom code\n",
    "from EvaluationStats import ClassifierStats\n",
    "\n",
    "# Create object\n",
    "stats = ClassifierStats(cm)\n",
    "\n",
    "# Print the results\n",
    "print (\"\\nCustom accuracy: \", stats.getAccuracy())\n",
    "print (\"Recall   :\", stats.getRecall())\n",
    "print (\"Precision:\", stats.getPrecision())\n",
    "print (\"F1 Score :\", stats.getfScore())\n",
    "print (\"G-mean   :\", stats.getGMean())\n",
    "\n",
    "print(\"\\n The outputs should match - and the G-mean has improved.\")\n",
    "# You'll notice the custom results are more precise. "
   ]
  },
  {
   "cell_type": "markdown",
   "metadata": {},
   "source": [
    "Once again we can see that re-sampling has greatly improved the G-mean. At the same time, it's becoming clear that there's a trade-off between accuracy and the G-mean. This is the case. If a classifier is more likely to predict the minority class, then it is more likely to make false positive predictions. Perhaps targeted sampling will help?"
   ]
  },
  {
   "cell_type": "markdown",
   "metadata": {},
   "source": [
    "### Targeted Sampling\n",
    "\n",
    "There are many methods that can be used to achieve targeted re-sampling. We consider just one here called One Sided Selection (OSS, Kubat & Matwin, 1997). OSS under-samples the majority class 'intelligently'. It does so by removing instances considered noisy, borderline, or redundant. This assumes noisy examples overwhelm the minority class, thus by removing them an improvement in performance can be achieved. The OSS approach tries to remove the unhelpful examples using Tomek links. Given two instances $x_{1}$ and $x_{2}$, each with a different class label, denote by $\\Phi(x_{1},x_{2})$ the distance between them. The pair $(x_{1},x_{2})$ is called a Tomek link (Tomek, 1976), if there exists no instance $x_{3}$ such that $\\Phi(x_{1},x_{3})<\\Phi(x_{1},x_{2})$ or $\\Phi(x_{2},x_{3})<\\Phi(x_{2},x_{1})$. This is shown in the image below. If an instance is part of such a link, then it is considered to be borderline or noisy and removed.\n"
   ]
  },
  {
   "cell_type": "markdown",
   "metadata": {},
   "source": [
    "<img src=\"images/png/TomekLink.png\" width=\"300\">"
   ]
  },
  {
   "cell_type": "markdown",
   "metadata": {},
   "source": [
    "Lets create some new data, and test out OSS. We'll use an imbalance ratio of 1 to 20, and generate 800 examples."
   ]
  },
  {
   "cell_type": "code",
   "execution_count": 188,
   "metadata": {},
   "outputs": [
    {
     "data": {
      "image/png": "[encoded data removed]",
      "text/plain": [
       "<matplotlib.figure.Figure at 0x11596a2e8>"
      ]
     },
     "metadata": {},
     "output_type": "display_data"
    }
   ],
   "source": [
    "# This is a modified version of the code originally \n",
    "# written by Christos Aridas and Guillaume Lemaitre\n",
    "# <g.lemaitre58@gmail.com>, released under the MIT\n",
    "# License.\n",
    "\n",
    "from imblearn.under_sampling import OneSidedSelection\n",
    "\n",
    "# Generate the dataset\n",
    "X, y = make_classification(n_classes=2, class_sep=1, weights=[0.05, 0.95],\n",
    "                           n_informative=3, n_redundant=1, flip_y=0,\n",
    "                           n_features=20, n_clusters_per_class=1,\n",
    "                           n_samples=800, random_state=10)\n",
    "\n",
    "# To make visualisation easier.\n",
    "pca = PCA(n_components=2)\n",
    "X_vis = pca.fit_transform(X)\n",
    "\n",
    "# Apply One-Sided Selection\n",
    "oss = OneSidedSelection(return_indices=True)\n",
    "\n",
    "# Perform the sampling\n",
    "X_resampled, y_resampled, idx_resampled = oss.fit_sample(X, y)\n",
    "\n",
    "# Transform to 2D space.\n",
    "X_res_vis = pca.transform(X_resampled)\n",
    "\n",
    "# Create a plot...\n",
    "fig = plt.figure()\n",
    "ax = fig.add_subplot(1, 1, 1)\n",
    "\n",
    "idx_samples_removed = np.setdiff1d(np.arange(X_vis.shape[0]),\n",
    "                                   idx_resampled)\n",
    "\n",
    "idx_class_0 = y_resampled == 0\n",
    "plt.scatter(X_res_vis[idx_class_0, 0], X_res_vis[idx_class_0, 1],\n",
    "            alpha=.8, label='Class #0')\n",
    "plt.scatter(X_res_vis[~idx_class_0, 0], X_res_vis[~idx_class_0, 1],\n",
    "            alpha=.8, label='Class #1')\n",
    "plt.scatter(X_vis[idx_samples_removed, 0], X_vis[idx_samples_removed, 1],\n",
    "            alpha=.8, label='Removed samples')\n",
    "\n",
    "ax.spines['top'].set_visible(False)\n",
    "ax.spines['right'].set_visible(False)\n",
    "ax.get_xaxis().tick_bottom()\n",
    "ax.get_yaxis().tick_left()\n",
    "ax.spines['left'].set_position(('outward', 10))\n",
    "ax.spines['bottom'].set_position(('outward', 10))\n",
    "ax.set_xlim([-6, 6])\n",
    "ax.set_ylim([-6, 6])\n",
    "\n",
    "# Show the plot\n",
    "plt.title('Under-sampling using one-sided selection')\n",
    "plt.legend()\n",
    "plt.tight_layout()\n",
    "plt.show()"
   ]
  },
  {
   "cell_type": "markdown",
   "metadata": {},
   "source": [
    "Now we determine what classification performance is like, prior to applying OSS."
   ]
  },
  {
   "cell_type": "code",
   "execution_count": 189,
   "metadata": {},
   "outputs": [
    {
     "name": "stdout",
     "output_type": "stream",
     "text": [
      "\n",
      "Examples in training set:  400\n",
      "Examples in testing set:  400\n",
      "Dimensions of training set:  (400, 20)\n",
      "Dimensions of testing set:  (400, 20)\n",
      "\n",
      "Accuracy : 0.94\n",
      "Recall   : 0.958224543081\n",
      "Precision: 0.978666666667\n",
      "F1 Score : 0.968337730871\n",
      "\n",
      "Custom accuracy:  0.94\n",
      "Recall   : 0.9786666666666667\n",
      "Precision: 0.95822454308094\n",
      "F1 Score : 0.9683377308707124\n",
      "G-mean   : 0.5935654976495854\n",
      "\n",
      " The outputs should match - but look a the G-mean... thats poor!\n"
     ]
    }
   ],
   "source": [
    "# Experiment 1c.\n",
    "\n",
    "# First lets get our inputs together.\n",
    "X_before = X\n",
    "Y_before = y\n",
    "\n",
    "from sklearn.model_selection import train_test_split\n",
    "\n",
    "x_train, x_test, y_train, y_test = train_test_split(X_before, Y_before, test_size=0.5)\n",
    "\n",
    "print ('\\nExamples in training set: ' , str(len(x_train)))\n",
    "print ('Examples in testing set: ' , str(len(x_test)))\n",
    "print ('Dimensions of training set: ' , str(np.asarray(x_train).shape))\n",
    "print ('Dimensions of testing set: ' , str(np.asarray(x_test).shape)) \n",
    "\n",
    "from sklearn.naive_bayes import GaussianNB\n",
    "\n",
    "classifier = GaussianNB()\n",
    "\n",
    "# First train the classifier with call to fit.\n",
    "classifier.fit(x_train, y_train)\n",
    "\n",
    "# Now make some predcitions for the likely labels\n",
    "# using the trained classifier.\n",
    "y_predicted = classifier.predict(x_test)\n",
    "\n",
    "# If we import some metrics we can evaluate the results.\n",
    "from sklearn.metrics import accuracy_score\n",
    "from sklearn.metrics import f1_score\n",
    "from sklearn.metrics import precision_score\n",
    "from sklearn.metrics import recall_score\n",
    "from sklearn.metrics import confusion_matrix\n",
    "\n",
    "print (\"\\nAccuracy :\", accuracy_score(y_test,y_predicted))\n",
    "print (\"Recall   :\", recall_score(y_test,y_predicted))\n",
    "print (\"Precision:\", precision_score(y_test,y_predicted))\n",
    "print (\"F1 Score :\", f1_score(y_test,y_predicted))\n",
    "\n",
    "# Next we can get the confusion matrix:\n",
    "cm = confusion_matrix(y_test,y_predicted)\n",
    "\n",
    "# I have provided my own custom class that can be used to\n",
    "# evaluate classifier performance. I use this now to verify the\n",
    "# values obtained above, and to obtain the G-mean. This is a\n",
    "# metric insensitive to the imbalance. This custom class expects a\n",
    "# confusion matrix as an input, with the following formatting:\n",
    "#                               \n",
    "# [[TN   FN]\n",
    "# [ FP  TP]]\n",
    "\n",
    "# Import custom code\n",
    "from EvaluationStats import ClassifierStats\n",
    "\n",
    "# Create object\n",
    "stats = ClassifierStats(cm)\n",
    "\n",
    "# Print the results\n",
    "print (\"\\nCustom accuracy: \", stats.getAccuracy())\n",
    "print (\"Recall   :\", stats.getRecall())\n",
    "print (\"Precision:\", stats.getPrecision())\n",
    "print (\"F1 Score :\", stats.getfScore())\n",
    "print (\"G-mean   :\", stats.getGMean())\n",
    "\n",
    "print(\"\\n The outputs should match - but look a the G-mean... thats poor!\")\n",
    "# You'll notice the custom results are more precise.   "
   ]
  },
  {
   "cell_type": "markdown",
   "metadata": {},
   "source": [
    "Now lets check what impact OSS had."
   ]
  },
  {
   "cell_type": "code",
   "execution_count": 190,
   "metadata": {},
   "outputs": [
    {
     "name": "stdout",
     "output_type": "stream",
     "text": [
      "\n",
      "Examples in training set:  388\n",
      "Examples in testing set:  388\n",
      "Dimensions of training set:  (388, 20)\n",
      "Dimensions of testing set:  (388, 20)\n",
      "\n",
      "Accuracy : 0.932989690722\n",
      "Recall   : 0.967213114754\n",
      "Precision: 0.961956521739\n",
      "F1 Score : 0.964577656676\n",
      "\n",
      "Custom accuracy:  0.9329896907216495\n",
      "Recall   : 0.9619565217391305\n",
      "Precision: 0.9672131147540983\n",
      "F1 Score : 0.9645776566757494\n",
      "G-mean   : 0.6203084786585238\n",
      "\n",
      " The outputs should match - and the G-mean has improved.\n"
     ]
    }
   ],
   "source": [
    "# Experiment 2c.\n",
    "\n",
    "# Let's get our inputs together.\n",
    "X_after  = X_resampled\n",
    "Y_after  = y_resampled\n",
    "\n",
    "# Now lets generate test and training sets from the data before\n",
    "# random undersampling was applied. We use the function,\n",
    "# train_test_split() to do this. The parameter test_size simply\n",
    "# insicates what proportion of the data should be used for the\n",
    "# training set. Here we simply say half in the training set, \n",
    "# half in the test set.\n",
    "\n",
    "from sklearn.model_selection import train_test_split\n",
    "\n",
    "x_train, x_test, y_train, y_test = train_test_split(X_after, Y_after, test_size=0.5)\n",
    "\n",
    "print ('\\nExamples in training set: ' , str(len(x_train)))\n",
    "print ('Examples in testing set: ' , str(len(x_test)))\n",
    "print ('Dimensions of training set: ' , str(np.asarray(x_train).shape))\n",
    "print ('Dimensions of testing set: ' , str(np.asarray(x_test).shape)) \n",
    "\n",
    "from sklearn.naive_bayes import GaussianNB\n",
    "\n",
    "classifier = GaussianNB()\n",
    "\n",
    "# First train the classifier with call to fit.\n",
    "classifier.fit(x_train, y_train)\n",
    "\n",
    "# Now make some predcitions for the likely labels\n",
    "# using the trained classifier.\n",
    "y_predicted = classifier.predict(x_test)\n",
    "\n",
    "# If we import some metrics we can evaluate the results.\n",
    "from sklearn.metrics import accuracy_score\n",
    "from sklearn.metrics import f1_score\n",
    "from sklearn.metrics import precision_score\n",
    "from sklearn.metrics import recall_score\n",
    "from sklearn.metrics import confusion_matrix\n",
    "\n",
    "print (\"\\nAccuracy :\", accuracy_score(y_test,y_predicted))\n",
    "print (\"Recall   :\", recall_score(y_test,y_predicted))\n",
    "print (\"Precision:\", precision_score(y_test,y_predicted))\n",
    "print (\"F1 Score :\", f1_score(y_test,y_predicted))\n",
    "\n",
    "# Next we can get the confusion matrix:\n",
    "cm = confusion_matrix(y_test,y_predicted)\n",
    "\n",
    "# I have provided my own custom class that can be used to\n",
    "# evaluate classifier performance. I use this now to verify the\n",
    "# values obtained above, and to obtain the G-mean. This is a\n",
    "# metric insensitive to the imbalance. This custom class expects a\n",
    "# confusion matrix as an input, with the following formatting:\n",
    "#                               \n",
    "# [[TN   FN]\n",
    "# [ FP  TP]]\n",
    "\n",
    "# Import custom code\n",
    "from EvaluationStats import ClassifierStats\n",
    "\n",
    "# Create object\n",
    "stats = ClassifierStats(cm)\n",
    "\n",
    "# Print the results\n",
    "print (\"\\nCustom accuracy: \", stats.getAccuracy())\n",
    "print (\"Recall   :\", stats.getRecall())\n",
    "print (\"Precision:\", stats.getPrecision())\n",
    "print (\"F1 Score :\", stats.getfScore())\n",
    "print (\"G-mean   :\", stats.getGMean())\n",
    "\n",
    "print(\"\\n The outputs should match - and the G-mean has improved.\")\n",
    "# You'll notice the custom results are more precise. "
   ]
  },
  {
   "cell_type": "markdown",
   "metadata": {},
   "source": [
    "Note that this time, the accuracy difference between the non-OSS and OSS results is only around 5%. Yet the G-mean has improved. That's a decent return for very little work."
   ]
  },
  {
   "cell_type": "markdown",
   "metadata": {},
   "source": [
    "### Artificial Examples\n",
    "There are many approaches available for building artificial data points. Perhaps the most popular right now are Generative Adversarial Networks (GANs). For simplicity, I'm only going to discuss a single standard method here.\n",
    "\n",
    "#### SMOTE\n",
    "The Synthetic Minority Over-sampling Technique (SMOTE,Chawla et. al., 2002), inserts synthetically generated minority class examples (based on existing minority examples) in to a sampled data set. It odes this to balance the class distribution. SMOTE uses $k$-nearest neighbours to determine which nearby examples are most similar to a minority class example. \n",
    "\n",
    "The nearest neighbours are then used to generate a new synthetic example. This is done by first choosing a template minority class example, near which a new synthetic example should be generated. A random nearest neighbour of this template is then chosen. The features of the neighbouring example are combined with the features of the template, to form an entirely new example. This process is repeated until the required number of synthetic examples have been created. The synthetic examples are combined with the real minority examples to form a new training set. SMOTE ultimately balances the training set by under-sampling the majority class via random omission, until the desired $IR$ is reached.\n"
   ]
  },
  {
   "cell_type": "markdown",
   "metadata": {},
   "source": [
    "<img src=\"images/png/SMOTE.png\" width=\"200\">"
   ]
  },
  {
   "cell_type": "markdown",
   "metadata": {},
   "source": [
    "As before lets create some data. As for OSS, We'll use an imbalance ratio of 1 to 20, but this time generate 500 examples."
   ]
  },
  {
   "cell_type": "code",
   "execution_count": 165,
   "metadata": {},
   "outputs": [
    {
     "name": "stdout",
     "output_type": "stream",
     "text": [
      "\n",
      "SMOTE Method:  SMOTE(k=None, k_neighbors=5, kind='regular', m=None, m_neighbors=10, n_jobs=1,\n",
      "   out_step=0.5, random_state=None, ratio='auto', svm_estimator=None) \n",
      "\n",
      "Acc before    :  0.98800 Acc after    :  0.99368\n",
      "Rec. before   :  0.99578 Rec. after   :  1.00000\n",
      "Prec. before  :  0.99160 Prec. after  :  0.98760\n",
      "F1 before     :  0.99368 F1 after     :  0.99376\n",
      "G-mean before :  0.91792 G-mean after :  0.99362\n",
      "\n",
      "SMOTE Method:  SMOTE(k=None, k_neighbors=5, kind='borderline1', m=None, m_neighbors=10,\n",
      "   n_jobs=1, out_step=0.5, random_state=None, ratio='auto',\n",
      "   svm_estimator=None) \n",
      "\n",
      "Acc before    :  0.98800 Acc after    :  0.99789\n",
      "Rec. before   :  0.99167 Rec. after   :  1.00000\n",
      "Prec. before  :  0.99582 Prec. after  :  0.99556\n",
      "F1 before     :  0.99374 F1 after     :  0.99777\n",
      "G-mean before :  0.94472 G-mean after :  0.99801\n",
      "\n",
      "SMOTE Method:  SMOTE(k=None, k_neighbors=5, kind='borderline2', m=None, m_neighbors=10,\n",
      "   n_jobs=1, out_step=0.5, random_state=None, ratio='auto',\n",
      "   svm_estimator=None) \n",
      "\n",
      "Acc before    :  0.98000 Acc after    :  0.97474\n",
      "Rec. before   :  0.97934 Rec. after   :  0.98347\n",
      "Prec. before  :  1.00000 Prec. after  :  0.96748\n",
      "F1 before     :  0.98956 F1 after     :  0.97541\n",
      "G-mean before :  0.98962 G-mean after :  0.97453\n",
      "\n",
      "SMOTE Method:  SMOTE(k=None, k_neighbors=5, kind='svm', m=None, m_neighbors=10, n_jobs=1,\n",
      "   out_step=0.5, random_state=None, ratio='auto', svm_estimator=None) \n",
      "\n",
      "Acc before    :  0.98800 Acc after    :  0.99368\n",
      "Rec. before   :  0.99156 Rec. after   :  1.00000\n",
      "Prec. before  :  0.99576 Prec. after  :  0.98795\n",
      "F1 before     :  0.99366 F1 after     :  0.99394\n",
      "G-mean before :  0.95671 G-mean after :  0.99343\n"
     ]
    },
    {
     "data": {
      "image/png": "[encoded data removed]",
      "text/plain": [
       "<matplotlib.figure.Figure at 0x115d94668>"
      ]
     },
     "metadata": {},
     "output_type": "display_data"
    }
   ],
   "source": [
    "# This is a modified version of the code originally \n",
    "# written by Fernando Nogueira, Christos Aridas and \n",
    "# Guillaume Lemaitre <g.lemaitre58@gmail.com>,\n",
    "# released under the MIT License.\n",
    "\n",
    "# This function is used to produce a more complicated SMOTE plot.\n",
    "def plot_resampling(ax, X, y, title):\n",
    "    c0 = ax.scatter(X[y == 0, 0], X[y == 0, 1], label=\"Class #0\", alpha=0.5)\n",
    "    c1 = ax.scatter(X[y == 1, 0], X[y == 1, 1], label=\"Class #1\", alpha=0.5)\n",
    "    ax.set_title(title)\n",
    "    ax.spines['top'].set_visible(False)\n",
    "    ax.spines['right'].set_visible(False)\n",
    "    ax.get_xaxis().tick_bottom()\n",
    "    ax.get_yaxis().tick_left()\n",
    "    ax.spines['left'].set_position(('outward', 10))\n",
    "    ax.spines['bottom'].set_position(('outward', 10))\n",
    "    ax.set_xlim([-6, 8])\n",
    "    ax.set_ylim([-6, 6])\n",
    "\n",
    "    return c0, c1\n",
    "\n",
    "from imblearn.over_sampling import SMOTE\n",
    "\n",
    "# Generate the dataset\n",
    "X, y = make_classification(n_classes=2, class_sep=2, weights=[0.05, 0.95],\n",
    "                           n_informative=3, n_redundant=1, flip_y=0,\n",
    "                           n_features=20, n_clusters_per_class=1,\n",
    "                           n_samples=500, random_state=10)\n",
    "\n",
    "# Instanciate a PCA object for the sake of easy visualisation\n",
    "pca = PCA(n_components=2)\n",
    "# Fit and transform x to visualise inside a 2D feature space\n",
    "X_vis = pca.fit_transform(X)\n",
    "\n",
    "\n",
    "# Note there a many varieties of SMOTE. I'll leave these\n",
    "# here to play with. \n",
    "kind = ['regular', 'borderline1', 'borderline2', 'svm']\n",
    "\n",
    "\n",
    "# Apply regular SMOTE\n",
    "sm = [SMOTE(kind=k) for k in kind]\n",
    "\n",
    "X_resampled = []\n",
    "y_resampled = []\n",
    "X_res_vis   = []\n",
    "\n",
    "# Here we loop over all possible SMOTE Methods\n",
    "for method in sm:\n",
    "    \n",
    "    # For each SMOTE method, apply and resample\n",
    "    X_res, y_res = method.fit_sample(X, y)\n",
    "    X_resampled.append(X_res)\n",
    "    y_resampled.append(y_res)\n",
    "    X_res_vis.append(pca.transform(X_res))\n",
    "    \n",
    "    # Because this code runs in a loop over all SMOTE\n",
    "    # methods, we do the before and after experiments\n",
    "    # pretty much together.\n",
    "    ###########################\n",
    "    # Get test/train splits\n",
    "    ###########################\n",
    "    # For experiment 1d\n",
    "    X_before = X\n",
    "    Y_before = y\n",
    "    \n",
    "    # For experiment 2d\n",
    "    X_after = X_res\n",
    "    Y_after = y_res\n",
    "    \n",
    "    from sklearn.model_selection import train_test_split\n",
    "    \n",
    "    examples_before_total = int(len(Y_before))\n",
    "    examples_after_total  = int(len(Y_after))\n",
    "    \n",
    "    # For experiment 1d\n",
    "    x_train_bef, x_test_bef, y_train_bef, y_test_bef = train_test_split(X_before, Y_before, test_size=0.5)\n",
    "    \n",
    "    # For experiment 2d\n",
    "    x_train_aft, x_test_aft, y_train_aft, y_test_aft = train_test_split(X_after, Y_after, test_size=0.5)\n",
    "    \n",
    "    ###########################\n",
    "    # Build classifiers\n",
    "    ###########################\n",
    "    from sklearn.naive_bayes import GaussianNB\n",
    "    classifier_bef = GaussianNB()\n",
    "    classifier_aft = GaussianNB()\n",
    "    \n",
    "    # Train the before data, and after data classifiers.\n",
    "    classifier_bef.fit(x_train_bef, y_train_bef)\n",
    "    classifier_aft.fit(x_train_aft, y_train_aft)\n",
    "    \n",
    "    ###########################\n",
    "    # Make predictions\n",
    "    ###########################\n",
    "    # Now make some predcitions for the likely labels\n",
    "    # using the trained classifier.\n",
    "    y_predicted_bef = classifier_bef.predict(x_test_bef)\n",
    "    y_predicted_aft = classifier_aft.predict(x_test_aft)\n",
    "    from sklearn.metrics import confusion_matrix\n",
    "\n",
    "    # Next we can get the confusion matrix:\n",
    "    cm_bef = confusion_matrix(y_test_bef,y_predicted_bef)\n",
    "    cm_aft = confusion_matrix(y_test_aft,y_predicted_aft)\n",
    "    \n",
    "    ###########################\n",
    "    # Evaluate\n",
    "    ###########################\n",
    "    from EvaluationStats import ClassifierStats\n",
    "\n",
    "    # Create object\n",
    "    stats_bef = ClassifierStats(cm_bef)\n",
    "    stats_aft = ClassifierStats(cm_aft)\n",
    "    \n",
    "    # Print the results\n",
    "    print (\"\\nSMOTE Method: \", str(method),\"\\n\")\n",
    "    print (\"Acc before    : \", '{0:.5f}'.format(stats_bef.getAccuracy()) ,\"Acc after    : \",'{0:.5f}'.format(stats_aft.getAccuracy()))\n",
    "    print (\"Rec. before   : \", '{0:.5f}'.format(stats_bef.getRecall())   ,\"Rec. after   : \",'{0:.5f}'.format(stats_aft.getRecall()))\n",
    "    print (\"Prec. before  : \", '{0:.5f}'.format(stats_bef.getPrecision()),\"Prec. after  : \",'{0:.5f}'.format(stats_aft.getPrecision()))\n",
    "    print (\"F1 before     : \", '{0:.5f}'.format(stats_bef.getfScore())  ,\"F1 after     : \",'{0:.5f}'.format(stats_aft.getfScore()))\n",
    "    print (\"G-mean before : \", '{0:.5f}'.format(stats_bef.getGMean())    ,\"G-mean after : \",'{0:.5f}'.format(stats_aft.getGMean()))\n",
    "  \n",
    "    \n",
    "    # Here we can evaluate all the SMOTE methods together,\n",
    "    # before and after they've bee applied.\n",
    "\n",
    "    \n",
    "#############\n",
    "# Plotting\n",
    "#############\n",
    "\n",
    "# Two subplots, unpack the axes array immediately\n",
    "f, ((ax1, ax2), (ax3, ax4), (ax5, ax6)) = plt.subplots(3, 2)\n",
    "# Remove axis for second plot\n",
    "ax2.axis('off')\n",
    "ax_res = [ax3, ax4, ax5, ax6]\n",
    "\n",
    "c0, c1 = plot_resampling(ax1, X_vis, y, 'Original set')\n",
    "\n",
    "for i in range(len(kind)):\n",
    "    plot_resampling(ax_res[i], X_res_vis[i], y_resampled[i],\n",
    "                    'SMOTE {}'.format(kind[i]))\n",
    "\n",
    "ax2.legend((c0, c1), ('Class #0', 'Class #1'), loc='center',\n",
    "           ncol=1, labelspacing=0.)\n",
    "\n",
    "plt.tight_layout()\n",
    "plt.show()"
   ]
  },
  {
   "cell_type": "markdown",
   "metadata": {},
   "source": [
    "Again we've improved the G-mean, and like with OSS, had little effect on the accuracy rate!"
   ]
  },
  {
   "cell_type": "markdown",
   "metadata": {},
   "source": [
    "### Algorithms Robust to Imbalance\n",
    "Some machine learning algorithms are more robust to imbalance than others. The decision tree is one such algorithm, depicted in the image below. It partitions the data space in such a way, that it overcomes some of the problems associated with disjuncts. I don't describe this algorithm here in detail, more detail can be found elsewhere (Bishop, 2006).\n"
   ]
  },
  {
   "cell_type": "markdown",
   "metadata": {},
   "source": [
    "<img src=\"images/png/SplitPointTree.png\" width=\"500\">"
   ]
  },
  {
   "cell_type": "markdown",
   "metadata": {
    "collapsed": true
   },
   "source": [
    "Hopefully the examples provided thus far will help you get to grips with the imbalanced learning problem. Perhaps you’ll be able to apply the code to some of your own data."
   ]
  },
  {
   "cell_type": "markdown",
   "metadata": {},
   "source": [
    "## Bonus - Pulsar Data\n",
    "Pulsar data is extremely imbalanced. The $IR$ is typically as low as $0.0001$. That’s 10,000 non-target class examples, for every example of interest. In the sections that follow I show how pulsar data can be read, pre-processed, scaled, and machine learning features extracted. This will demonstrate the basic principles behind how we do machine learning in practice."
   ]
  },
  {
   "cell_type": "markdown",
   "metadata": {},
   "source": [
    "### Example Data\n",
    "The input data consists of integrated pulse profiles, collected during the Medium Latitude portion of the High Time Resolution Universe Survey (HTRU) (see Thornton 2013 and Bates et. al. 2012). The data is comprised of $1,586$ pulsar and $8,852$ non-pulsar candidate profiles. Each profile contains exactly 128 phase bins. The data contains 725 of the known 1,108 pulsars (known at the time) in the Medium Latitude survey region (see Levin 2012), along with re-detections and harmonics. The data also contains noise examples, along with strong and weak forms of Radio Frequency Interference (RFI). This data is not to be confused with the [HTRU 2 feature data](https://dx.doi.org/10.6084/m9.figshare.3080389.v1) made available by Lyon et. al. (2016) - the feature data contains only machine learning features extracted from candidates, whilst this data set is made up of integrated pulse profiles only.\n",
    "\n",
    "### Loading the Data\n",
    "\n",
    "Here we simply load in the integrated pulse profile data, from files in the provided distribution. There are two files to be read in. The first contains integrated profiles for pulsars, the second contains noise and RFI profiles."
   ]
  },
  {
   "cell_type": "code",
   "execution_count": 191,
   "metadata": {},
   "outputs": [
    {
     "name": "stdout",
     "output_type": "stream",
     "text": [
      "\n",
      "\n",
      "Total number of pulsar profiles:  1586\n",
      "Total number of noise/RFI profiles:  8852\n"
     ]
    }
   ],
   "source": [
    "# The HTRU 2 profile data is split - one file containing the real pulsar\n",
    "# profiles, one file containing noise/interference profiles. We load both\n",
    "# these data sources here. First we construct relative paths to the files.\n",
    "data_dir = 'data/HTRU2'\n",
    "pulsar_file = data_dir + '/HTRU2_pulsar.csv'\n",
    "nonpulsar_file = data_dir + '/HTRU2_nonpulsar.csv'\n",
    "\n",
    "# Now simply load the data.\n",
    "pulsar_data = genfromtxt(pulsar_file, dtype=np.int,delimiter=',')\n",
    "non_pulsar_data = genfromtxt(nonpulsar_file, dtype=np.int,delimiter=',')\n",
    "\n",
    "# Print overview details.\n",
    "print ('\\n\\nTotal number of pulsar profiles: ', len(pulsar_data))\n",
    "print ('Total number of noise/RFI profiles: ', len(non_pulsar_data))"
   ]
  },
  {
   "cell_type": "markdown",
   "metadata": {},
   "source": [
    "Now we plot a single example of both classes, to show what the data looks like. First the pulsar example."
   ]
  },
  {
   "cell_type": "code",
   "execution_count": 192,
   "metadata": {},
   "outputs": [
    {
     "data": {
      "image/png": "[encoded data removed]",
      "text/plain": [
       "<matplotlib.figure.Figure at 0x1158a05c0>"
      ]
     },
     "metadata": {},
     "output_type": "display_data"
    }
   ],
   "source": [
    "figure(1)\n",
    "plot(pulsar_data[7], 'r')\n",
    "xlabel('Bin')\n",
    "ylabel('Normalised Intensity')\n",
    "title('Example Integrated Profile for a pulsar')\n",
    "show()"
   ]
  },
  {
   "cell_type": "markdown",
   "metadata": {},
   "source": [
    "It is clear that the peak is not in the centre. For most examples it is, but not for all. How about for the non-pulsar examples?"
   ]
  },
  {
   "cell_type": "code",
   "execution_count": 168,
   "metadata": {},
   "outputs": [
    {
     "data": {
      "image/png": "[encoded data removed]",
      "text/plain": [
       "<matplotlib.figure.Figure at 0x115b34c18>"
      ]
     },
     "metadata": {},
     "output_type": "display_data"
    }
   ],
   "source": [
    "figure(2)\n",
    "plot(non_pulsar_data[0], 'b')\n",
    "xlabel('Bin')\n",
    "ylabel('Normalised Intensity')\n",
    "title('Example Integrated Profile for a non-pulsar')\n",
    "show()"
   ]
  },
  {
   "cell_type": "markdown",
   "metadata": {},
   "source": [
    "The non-pulsar example doesn't appear to be correctly centred either. So we centre the data using a simple function. We define this function below:"
   ]
  },
  {
   "cell_type": "code",
   "execution_count": 169,
   "metadata": {
    "collapsed": true
   },
   "outputs": [],
   "source": [
    "import operator\n",
    "\n",
    "def centre_on_peak(data):\n",
    "    \"\"\"\n",
    "    Centre the data such that the maximum y-axis value is in the\n",
    "    centre of the data.\n",
    "\n",
    "    Parameters\n",
    "    ----------\n",
    "    :param data: the data to be centred.\n",
    "\n",
    "    Returns\n",
    "    ----------\n",
    "    :return: the centred data array.\n",
    "    \"\"\"\n",
    "    # Stores the centred data.\n",
    "    centred_data = []\n",
    "\n",
    "    # Get the index of the maximum value.\n",
    "    index, value = max(enumerate(data), key=operator.itemgetter(1))\n",
    "\n",
    "    # Find midpoint of the data.\n",
    "    midpoint = int(len(data)/2)\n",
    "\n",
    "    # Figure out the shift required to centre the data (put max value in centre bin).\n",
    "    n = midpoint - index  # N gives the number of bins the data should be shifted.\n",
    "    a = n % len(data)\n",
    "\n",
    "    # Apply the correction.\n",
    "    centred_data = numpy.concatenate([data[-a:],data[:-a]])\n",
    "\n",
    "    return centred_data"
   ]
  },
  {
   "cell_type": "markdown",
   "metadata": {},
   "source": [
    "Now we execute this centering function."
   ]
  },
  {
   "cell_type": "code",
   "execution_count": 170,
   "metadata": {},
   "outputs": [
    {
     "data": {
      "image/png": "[encoded data removed]",
      "text/plain": [
       "<matplotlib.figure.Figure at 0x1158fcd68>"
      ]
     },
     "metadata": {},
     "output_type": "display_data"
    },
    {
     "data": {
      "image/png": "[encoded data removed]",
      "text/plain": [
       "<matplotlib.figure.Figure at 0x1150fcbe0>"
      ]
     },
     "metadata": {},
     "output_type": "display_data"
    }
   ],
   "source": [
    "# Here we simply loop over each item in the data arrays,\n",
    "# and update their values.\n",
    "for i in range(0, len(pulsar_data)):\n",
    "    pulsar_data[i] = centre_on_peak(pulsar_data[i])\n",
    "    \n",
    "for i in range(0, len(non_pulsar_data)):\n",
    "    non_pulsar_data[i] = centre_on_peak(non_pulsar_data[i])\n",
    "    \n",
    "figure(3)\n",
    "plot(pulsar_data[7], 'r')\n",
    "xlabel('Bin')\n",
    "ylabel('Normalised Intensity')\n",
    "title('Example Integrated Profile for a pulsar - Centred')\n",
    "show()\n",
    "\n",
    "figure(4)\n",
    "plot(non_pulsar_data[0], 'b')\n",
    "xlabel('Bin')\n",
    "ylabel('Normalised Intensity')\n",
    "title('Example Integrated Profile for a non-pulsar - Centred')\n",
    "show()"
   ]
  },
  {
   "cell_type": "markdown",
   "metadata": {},
   "source": [
    "Now the data is correctly loaded and centred, we can move on. How about we compute some machine learning features from the data? We can use the features devised by Lyon et.al. 2016. The code provided below will allow us to extract these.\n",
    "\n",
    "---"
   ]
  },
  {
   "cell_type": "code",
   "execution_count": 171,
   "metadata": {
    "collapsed": true
   },
   "outputs": [],
   "source": [
    "def compute_features(data):\n",
    "    \"\"\"\n",
    "    Computes machine learning feature values for the supplied data array.\n",
    "\n",
    "    Parameters\n",
    "    ----------\n",
    "    :param data: a data array.\n",
    "\n",
    "    Returns\n",
    "    ----------\n",
    "    :return: the computed machine learning features as a list [mean, stdev, shew, kurtosis].\n",
    "    \"\"\"\n",
    "    if data is not None:  # Check data is not empty\n",
    "\n",
    "        if len(data) > 0:\n",
    "\n",
    "            # Sums computed during calculation.\n",
    "            mean_sum = 0\n",
    "            mean_subtracted_sum_power_2 = 0\n",
    "            mean_subtracted_sum_power_3 = 0\n",
    "            mean_subtracted_sum_power_4 = 0\n",
    "\n",
    "            # The number of data points in the array.\n",
    "            n = len(data)\n",
    "\n",
    "            # Necessary first loop to calculate the sum, min and max\n",
    "            for d in data:\n",
    "                mean_sum += float(d)\n",
    "            \n",
    "            if mean_sum > 0 or mean_sum < 0:  # If the mean is less than or greater than zero (should be)\n",
    "                \n",
    "                # Update the mean value.\n",
    "                mean_value = mean_sum / float(n)\n",
    "\n",
    "                # Now try to compute the standard deviation, using\n",
    "                # the mean computed above... we also compute values in\n",
    "                # this loop required to compute the excess Kurtosis and\n",
    "                # standard deviation.\n",
    "\n",
    "                for d in data:\n",
    "                    \n",
    "                    mean_subtracted_sum_power_2 += power((float(d) - mean_value), 2.0)\n",
    "\n",
    "                    # Used to compute skew\n",
    "                    mean_subtracted_sum_power_3 += power((float(d) - mean_value), 3.0)\n",
    "\n",
    "                    # Used to compute Kurtosis\n",
    "                    mean_subtracted_sum_power_4 += power((float(d) - mean_value), 4.0)\n",
    "\n",
    "                # Update the standard deviation value.\n",
    "                stdev = sqrt(mean_subtracted_sum_power_2 / (n - 1.0))\n",
    "                # Next try to calculate the excess Kurtosis and skew using the\n",
    "                # information gathered above.\n",
    "\n",
    "                one_over_n = 1.0 / n  # Used multiple times...\n",
    "\n",
    "                kurt = ((one_over_n * mean_subtracted_sum_power_4) / power((one_over_n * mean_subtracted_sum_power_2), 2) ) - 3\n",
    "\n",
    "                skew = (one_over_n * mean_subtracted_sum_power_3) / power(sqrt(one_over_n * mean_subtracted_sum_power_2), 3)\n",
    "                    \n",
    "                return [mean_value, stdev, skew, kurt]\n",
    "                \n",
    "            else:  # Data sums to zero, i.e. no data!\n",
    "                return [0,0,0,0]\n",
    "            \n",
    "        else:  # Data empty for some reason...\n",
    "            return [0,0,0,0]"
   ]
  },
  {
   "cell_type": "markdown",
   "metadata": {},
   "source": [
    "### Feature Extraction Unit Test\n",
    "Now we want to test our feature extraction function works correctly. To do this, we write two important types of test.\n",
    "\n",
    "#### Test 1: Expected Outputs from Theory\n",
    "A Gaussian distribution with a mean of 0, and a standard deviation of 1, should have a skew of 0, and a kurtosis of 0. These values are derivable from theory, and are known to be correct. We can test our function works well, by comparing the values it computes for such a Gaussian distribution. However, I don't have the data points describing a perfect Gaussian distribution readily at hand. So to perform such a test, I use a simple trick. I instead use a Gaussian random number generator, to generate an approximately perfect distribution. I can then compare the outputs of my function computed over this distribution, to the expected values from theory. Whilst the results will not match exactly, it should give us an indication of how the function is performing.\n",
    "\n",
    "#### Test 2: Our output vs. Numpy\n",
    "We can also compare the values obtained by our function, to those produced by the in-built numpy functions. If our function produces outputs close to those expected from theory, and identical to those produced by numpy, we can have confidence that our function is correct.\n",
    "\n",
    "At this point, you may wonder why I bother with the comparison to the theoretical. Perhaps you're thinking, *\"Geez Rob, why not just compare to the numpy function?\"*. Well, sometimes numpy functions have bugs, and we need to be sure that we are robust against them.\n",
    "\n",
    "\n",
    "Ok, now we perform the first two test for a approximately perfect Gaussian distribution. Note that we use the sample standard deviation, and values are rounded to 12 decimal places."
   ]
  },
  {
   "cell_type": "code",
   "execution_count": 172,
   "metadata": {},
   "outputs": [
    {
     "name": "stdout",
     "output_type": "stream",
     "text": [
      "Test 1 for Gaussian Distribution: Our computed values vs. theoretical values\n",
      "\n",
      "\tGaussian data mean:  0.007047798441 \t\texpected: 0.0\n",
      "\tGaussian data stdev: 0.997831536301 \t\texpected: 1.0\n",
      "\tGaussian data skew:  -0.017723000308 \t\texpected: 0.0\n",
      "\tGaussian data kurt:  -0.008814397735 \t\texpected: 0.0\n",
      "\n",
      "\n",
      "Test 2 for Gaussian Distribution: Our computed values vs. numpy function values\n",
      "\n",
      "\tGaussian data mean:  0.007047798441 \t\tnumpy:  0.007047798441\n",
      "\tGaussian data stdev: 0.997831536301 \t\tnumpy:  0.997831536301\n",
      "\tGaussian data skew:  -0.017723000308 \t\tnumpy:  -0.017723000308\n",
      "\tGaussian data kurt:  -0.008814397735 \t\tnumpy:  -0.008814397735 \n",
      "\n",
      "\n"
     ]
    }
   ],
   "source": [
    "import random as rnd\n",
    "from scipy.stats import skew\n",
    "from scipy.stats import kurtosis\n",
    "\n",
    "# Now generate some random data, and test the extracted values.\n",
    "gaussian_data = []\n",
    "for i in range(0, 100000):\n",
    "    gaussian_data.append(rnd.gauss(0.0, 1.0))\n",
    "\n",
    "# Get the feature data\n",
    "[mean_,stdev_,skew_,kurt_] = compute_features(gaussian_data)\n",
    "\n",
    "# Check the results\n",
    "print ('Test 1 for Gaussian Distribution: Our computed values vs. theoretical values\\n')\n",
    "print ('\\tGaussian data mean: ' , str('%.12f' % mean_) , '\\t\\texpected: 0.0')\n",
    "print ('\\tGaussian data stdev:' , str('%.12f' % stdev_), '\\t\\texpected: 1.0')\n",
    "print ('\\tGaussian data skew: ' , str('%.12f' % skew_) , '\\t\\texpected: 0.0')\n",
    "print ('\\tGaussian data kurt: ' , str('%.12f' % kurt_) , '\\t\\texpected: 0.0\\n\\n')\n",
    "\n",
    "# Check the results\n",
    "print ('Test 2 for Gaussian Distribution: Our computed values vs. numpy function values\\n')\n",
    "print ('\\tGaussian data mean: ' , str('%.12f' % mean_) , '\\t\\tnumpy: ' , str('%.12f' % mean(gaussian_data)))\n",
    "print ('\\tGaussian data stdev:' , str('%.12f' % stdev_) , '\\t\\tnumpy: ' , str('%.12f' % std(gaussian_data,ddof=1)))\n",
    "print ('\\tGaussian data skew: ' , str('%.12f' % skew_) , '\\t\\tnumpy: ' , str('%.12f' % skew(gaussian_data)))\n",
    "print ('\\tGaussian data kurt: ' , str('%.12f' % kurt_) , '\\t\\tnumpy: ' , str('%.12f' % kurtosis(gaussian_data)), '\\n\\n')"
   ]
  },
  {
   "cell_type": "markdown",
   "metadata": {},
   "source": [
    "It's clear that the function is producing values very close to those expected from the theory. It is also clear that our function is giving the same answers to the numpy function. So it appears to be working well. Now for another test, this time on the uniform distribution."
   ]
  },
  {
   "cell_type": "code",
   "execution_count": 173,
   "metadata": {},
   "outputs": [
    {
     "name": "stdout",
     "output_type": "stream",
     "text": [
      "Test 1 for Uniform Distribution: Our computed values vs. theoretical values\n",
      "\n",
      "\tUniform data mean:  0.498967811385 \t\texpected: 0.5\n",
      "\tUniform data stdev: 0.288368126465 \t\texpected:  0.288675134595\n",
      "\tUniform data skew:  -0.001285213034 \t\texpected:  0\n",
      "\tUniform data kurt:  -1.196652838647 \t\texpected:  -1.2 \n",
      "\n",
      "\n",
      "Test 2 for Uniform Distribution: Our computed values vs. numpy function values\n",
      "\n",
      "\tUniform data mean:  0.498967811385 \t\tnumpy:  0.498967811385\n",
      "\tUniform data stdev: 0.288368126465 \t\tnumpy:  0.288368126465\n",
      "\tUniform data skew:  -0.001285213034 \t\tnumpy:  -0.001285213034\n",
      "\tUniform data kurt:  -1.196652838647 \t\tnumpy:  -1.196652838647\n"
     ]
    }
   ],
   "source": [
    "# Now generate some random data, and test the extracted values.\n",
    "uniform_data = []\n",
    "for i in range(0, 100000):\n",
    "    uniform_data.append(rnd.uniform(0.0, 1.0))\n",
    "\n",
    "[mean_,stdev_,skew_,kurt_] = compute_features(uniform_data)\n",
    "        \n",
    "# Standard deviation of uniform distribution is given by:\n",
    "#\n",
    "# Sqrt((1/12) (b-a)^2)\n",
    "#\n",
    "# where a is the lower limit, and b the upper limit. So...\n",
    "expected_std = sqrt((1.0/12.0) * power((1.0-0.0), 2))\n",
    "\n",
    "# Kurtosis of uniform distribution is given by:\n",
    "#\n",
    "# -(6.0/5.0)\n",
    "expected_kurt = -(6.0/5.0)\n",
    "\n",
    "# Skew of uniform distribution is given by:\n",
    "#\n",
    "# 0\n",
    "expected_skew = 0\n",
    "\n",
    "# See this site for details on these computations:\n",
    "# http:#mathworld.wolfram.com/UniformDistribution.html\n",
    "\n",
    "# Check the results\n",
    "print ('Test 1 for Uniform Distribution: Our computed values vs. theoretical values\\n')\n",
    "print ('\\tUniform data mean: ' , str('%.12f' % mean_) , '\\t\\texpected: 0.5')\n",
    "print ('\\tUniform data stdev:' , str('%.12f' % stdev_), '\\t\\texpected: ' , str(expected_std))\n",
    "print ('\\tUniform data skew: ' , str('%.12f' % skew_) , '\\t\\texpected: ' , str(expected_skew))\n",
    "print ('\\tUniform data kurt: ' , str('%.12f' % kurt_) , '\\t\\texpected: ' , str(expected_kurt) , '\\n\\n')\n",
    "\n",
    "# Check the results\n",
    "print ('Test 2 for Uniform Distribution: Our computed values vs. numpy function values\\n')\n",
    "print ('\\tUniform data mean: ' , str('%.12f' % mean_) , '\\t\\tnumpy: ' , str('%.12f' % mean(uniform_data)))\n",
    "print ('\\tUniform data stdev:' , str('%.12f' % stdev_), '\\t\\tnumpy: ' , str('%.12f' % std(uniform_data,ddof=1)))\n",
    "print ('\\tUniform data skew: ' , str('%.12f' % skew_) , '\\t\\tnumpy: ' , str('%.12f' % skew(uniform_data)))\n",
    "print ('\\tUniform data kurt: ' , str('%.12f' % kurt_) , '\\t\\tnumpy: ' , str('%.12f' % kurtosis(uniform_data)))"
   ]
  },
  {
   "cell_type": "markdown",
   "metadata": {},
   "source": [
    "It's clear that the function is producing values very close to those expected from the theory. It is also clear that our function is giving the same answers to the numpy function. Based on these results, I trust that the function is correct.\n",
    "\n",
    "---"
   ]
  },
  {
   "cell_type": "markdown",
   "metadata": {},
   "source": [
    "### Scaling\n",
    "Pulsar data is often scaled to some nuermical range, often 0 to 255. Here I provide a function that can perform the scaling."
   ]
  },
  {
   "cell_type": "code",
   "execution_count": 174,
   "metadata": {
    "collapsed": true
   },
   "outputs": [],
   "source": [
    "def scale(data,new_min, new_max):\n",
    "    \"\"\"\n",
    "    Scales data to within the range [new_min,new_max].\n",
    "\n",
    "    Parameters\n",
    "    ----------\n",
    "    :param data: the data to scale.\n",
    "    :param new_min: the new minimum value for the data range.\n",
    "    :param new_max: the new maximum value for the data range.\n",
    "\n",
    "    Returns\n",
    "    ----------\n",
    "    :return: A new array with the data scaled to within the range [new_min,new_max].\n",
    "    \"\"\"\n",
    "    min_ = min(data)\n",
    "    max_ = max(data)\n",
    "\n",
    "    new_data = []\n",
    "\n",
    "    for n in range(len(data)):\n",
    "\n",
    "        value = data[n]\n",
    "        x = (new_min * (1-( (value-min_) /( max_- min_ )))) + (new_max * ( (value-min_) /( max_- min_ ) ))\n",
    "        new_data.append(x)\n",
    "\n",
    "    return new_data"
   ]
  },
  {
   "cell_type": "markdown",
   "metadata": {},
   "source": [
    "## Pulsar Classification\n",
    "So far we've loaded the pulsar data, decided upon a scaling, and chosen our features. Now lets do some basic classification."
   ]
  },
  {
   "cell_type": "code",
   "execution_count": 175,
   "metadata": {
    "collapsed": true
   },
   "outputs": [],
   "source": [
    "from sklearn.model_selection import train_test_split\n",
    "    \n",
    "X = [] # Stores the feature data.\n",
    "Y = [] # Stores the class labels.\n",
    "\n",
    "# Add pulsar examples.\n",
    "for i in range(0, len(pulsar_data)):\n",
    "    \n",
    "    # Now here we extract the features with the call\n",
    "    # to compute_features(). We also scale each profile\n",
    "    # so that its values fall in the range [0,1]. This is\n",
    "    # done via the call to scale(...).\n",
    "    X.append(compute_features(scale(pulsar_data[i],0.0,1.0)))\n",
    "    Y.append(1)\n",
    "\n",
    "# Add non-pulsar examples.\n",
    "for i in range(0, len(non_pulsar_data)):\n",
    "             \n",
    "    # Now here we extract the features with the call\n",
    "    # to compute_features(). We also scale each profile\n",
    "    # so that its values fall in the range [0,1]. This is\n",
    "    # done via the call to scale(...).\n",
    "    X.append(compute_features(scale(non_pulsar_data[i],0.0,1.0)))\n",
    "    Y.append(0)\n",
    "\n"
   ]
  },
  {
   "cell_type": "code",
   "execution_count": 176,
   "metadata": {},
   "outputs": [
    {
     "name": "stdout",
     "output_type": "stream",
     "text": [
      "\n",
      "Examples in training set:  10\n",
      "Examples in testing set:  10428\n",
      "Dimensions of training set:  (10, 4)\n",
      "Dimensions of testing set:  (10428, 4)\n"
     ]
    }
   ],
   "source": [
    "x_train, x_test, y_train, y_test = train_test_split(X, Y, test_size=0.999)\n",
    "\n",
    "print ('\\nExamples in training set: ' , str(len(x_train)))\n",
    "print ('Examples in testing set: ' , str(len(x_test)))\n",
    "             \n",
    "# There should be 4 features per example. Lets just check this is\n",
    "# the case.\n",
    "print ('Dimensions of training set: ' , str(np.asarray(x_train).shape))\n",
    "print ('Dimensions of testing set: ' , str(np.asarray(x_test).shape))    "
   ]
  },
  {
   "cell_type": "markdown",
   "metadata": {},
   "source": [
    "Now we build and test the classifier."
   ]
  },
  {
   "cell_type": "code",
   "execution_count": 177,
   "metadata": {},
   "outputs": [
    {
     "name": "stdout",
     "output_type": "stream",
     "text": [
      "Naive Bayes Classifier accuracy:  87.725354814 %.\n"
     ]
    }
   ],
   "source": [
    "from sklearn.naive_bayes import GaussianNB\n",
    "\n",
    "classifier = GaussianNB()\n",
    "\n",
    "# First train the classifier with call to fit.\n",
    "classifier.fit(x_train, y_train)\n",
    "\n",
    "# Now obtain the classifiers 'score'\n",
    "accuracy = classifier.score(x_test, y_test)\n",
    "print (\"Naive Bayes Classifier accuracy: \", (100* accuracy), \"%.\")"
   ]
  },
  {
   "cell_type": "markdown",
   "metadata": {},
   "source": [
    "Here we've built a basic classifier on just the integrated pulse profile data of pulsar candidates. The results are quite good - however in the real world things aren't so easy. Stay tuned for more datasets that I'll be able to share - perhaps then you'll find out how tricky pulsar classification is."
   ]
  },
  {
   "cell_type": "markdown",
   "metadata": {},
   "source": [
    "## References\n",
    "\n",
    "Bates S. D., Bailes M., Barsdell B. R., Bhat N. D. R., Burgay M., Burke-Spolaor S., Champion D. J., et al., 2012, *\"The High Time Resolution Universe Pulsar Survey - VI. An artificial neural network and timing of 75 pulsars\"*, MNRAS, 427, pp.1052-1065, [DOI:10.1111/j.1365-2966.2012.22042.x](https://dx.doi.org/10.1111/j.1365-2966.2012.22042.x).\n",
    "\n",
    "Bishop C. M., 2006, *\"Pattern Recognition and Machine Learning\"*, Springer.\n",
    "\n",
    "Chawla N.V., Bowyer K.W., Hall L.O., and Kegelmeyer W.P., 2002, *\"SMOTE: Syn- thetic Minority Over-sampling Technique.\"*, Journal of Artificial Intelligence Research, 16(1), pp.321-357.\n",
    "\n",
    "Gama J., Zliobaite I., Bifet A., Pechenizkiy M., Bouchachia A., 2014, *\"A Survey on Concept Drift Adaptation\"*, ACM Comput. Surv., vol.46(4), pp.44:1--44:37, [DOI:10.1145/2523813](https://dx.doi.org/10.1145/2523813).\n",
    "\n",
    "He H. and Garcia E., 2009, *\"Learning from Imbalanced Data\"*, Knowledge and Data\n",
    "Engineering, IEEE Transactions on, 21(9), pp.1263-1284.\n",
    "\n",
    "Kubat M. and Matwin S., 1997, *\"Addressing the Curse of Imbalanced Training Sets: One-Sided Selection.\"*, In Proceedings of the 14th International Conference on Machine Learning (ICML), pp.179-186.\n",
    "\n",
    "Levin L., 2012, *\"A search for radio pulsars: from millisecond pulsars to magnetars\"*, PhD thesis, Swinburne University.\n",
    "\n",
    "Lyon R. J., Stappers B. W., Cooper S., Brooke J. M., Knowles J.D., 2016, *\"Fifty Years of Pulsar Candidate Selection: From simple filters to a new principled real-time classification approach\"*, MNRAS, 459 (1):1104-1123, [DOI:10.1093/mnras/stw656](https://dx.doi.org/10.1093/mnras/stw656)\n",
    "\n",
    "Lyon R. J., 2016, *\"Why Are Pulsars Hard To Find?\"*, PhD thesis, University of Manchester.\n",
    "\n",
    "Thornton D., 2013, *\"The High Time Resolution Radio Sky\"*, PhD thesis, University of Manchester.\n",
    "\n",
    "Tomek I., 1976, *“Two Modifications of CNN.\"*, Systems, Man and Cybernetics, IEEE Transactions on, SMC-6(11), pp.769-772."
   ]
  }
 ],
 "metadata": {
  "anaconda-cloud": {},
  "kernelspec": {
   "display_name": "Python 3",
   "language": "python",
   "name": "python3"
  },
  "language_info": {
   "codemirror_mode": {
    "name": "ipython",
    "version": 3
   },
   "file_extension": ".py",
   "mimetype": "text/x-python",
   "name": "python",
   "nbconvert_exporter": "python",
   "pygments_lexer": "ipython3",
   "version": "3.6.2"
  }
 },
 "nbformat": 4,
 "nbformat_minor": 1
}
